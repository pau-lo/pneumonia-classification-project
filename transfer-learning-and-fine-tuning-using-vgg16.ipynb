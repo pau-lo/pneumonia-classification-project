{
 "cells": [
  {
   "cell_type": "markdown",
   "source": [
    "# Transfer Learning and basic fine-tuning using VGG16 for Pneumonia classification\n",
    "\n",
    "Using VGG16 pre-trained model to predict whether an X-ray scan shows presence of pneumonia.\n",
    "\n",
    "The intuition behind transfer learning for image classification is that if a model is trained on a large and general enough dataset, this model will effectively serve as a generic model of the visual world. You can then take advantage of these learned feature maps without having to start from scratch by training a large model on a large dataset\n",
    "\n",
    "In this notebook, you will try two ways to customize a pretrained model:\n",
    "\n",
    "1.  Feature Extraction: Use the representations learned by a previous network to extract meaningful features from new samples. You simply add a new classifier, which will be trained from scratch, on top of the pretrained model so that you can repurpose the feature maps learned previously for the dataset.\n",
    "\n",
    "    You do not need to (re)train the entire model. The base convolutional network already contains features that are generically useful for classifying pictures. However, the final, classification part of the pretrained model is specific to the original classification task, and subsequently specific to the set of classes on which the model was trained.\n",
    "\n",
    "2.  Fine-Tuning: Unfreeze a few of the top layers of a frozen model base and jointly train both the newly-added classifier layers and the last layers of the base model. This allows us to \"fine-tune\" the higher-order feature representations in the base model in order to make them more relevant for the specific task.\n",
    "\n",
    "You will follow the general machine learning workflow.\n",
    "\n",
    "1.  Examine and understand the data\n",
    "2.  Build an input pipeline, in this case using Keras ImageDataGenerator\n",
    "3.  Compose the model\n",
    "    - Load in the pretrained base model (and pretrained weights)\n",
    "    - Stack the classification layers on top\n",
    "6.  Train the model\n",
    "7.  Evaluate model\n"
   ],
   "metadata": {
    "id": "vJa8AVq7jpbF",
    "papermill": {
     "duration": 0.055701,
     "end_time": "2021-08-31T01:32:36.808653",
     "exception": false,
     "start_time": "2021-08-31T01:32:36.752952",
     "status": "completed"
    },
    "tags": []
   }
  },
  {
   "cell_type": "markdown",
   "source": [
    "# Getting Setup"
   ],
   "metadata": {
    "papermill": {
     "duration": 0.054508,
     "end_time": "2021-08-31T01:32:36.916308",
     "exception": false,
     "start_time": "2021-08-31T01:32:36.861800",
     "status": "completed"
    },
    "tags": []
   }
  },
  {
   "cell_type": "markdown",
   "source": [
    "## Import Packages\n"
   ],
   "metadata": {
    "id": "LPG91wbMjpbH",
    "papermill": {
     "duration": 0.052316,
     "end_time": "2021-08-31T01:32:37.021093",
     "exception": false,
     "start_time": "2021-08-31T01:32:36.968777",
     "status": "completed"
    },
    "tags": []
   }
  },
  {
   "cell_type": "code",
   "execution_count": 1,
   "source": [
    "# import necessary packages\n",
    "import os\n",
    "import warnings\n",
    "import math\n",
    "import pandas as pd\n",
    "import numpy as np\n",
    "import PIL\n",
    "from numpy.random import seed\n",
    "from datetime import datetime\n",
    "from scipy import interp\n",
    "from itertools import cycle\n",
    "import seaborn as sns\n",
    "import matplotlib.pyplot as plt\n",
    "import tensorflow as tf\n",
    "from tensorflow.keras.models import (\n",
    "    save_model, \n",
    "    load_model\n",
    ")\n",
    "# for deep learning\n",
    "from tensorflow.keras.preprocessing.image import (\n",
    "    ImageDataGenerator,\n",
    "    load_img,\n",
    "    img_to_array\n",
    ")\n",
    "from tensorflow.keras.utils import plot_model\n",
    "from tensorflow.keras.applications.vgg16 import VGG16\n",
    "from tensorflow.keras.optimizers import Adam\n",
    "from tensorflow.keras.metrics import Accuracy, AUC\n",
    "from tensorflow.keras.losses import binary_crossentropy\n",
    "from tensorflow.keras import Sequential\n",
    "from tensorflow.keras.layers import(\n",
    "    Dense,\n",
    "    Dropout,\n",
    "    GlobalAveragePooling2D,\n",
    "    Flatten,\n",
    "    BatchNormalization,\n",
    ")\n",
    "\n",
    "from tensorflow.keras.callbacks import (\n",
    "    EarlyStopping,\n",
    "    ModelCheckpoint,\n",
    "    LearningRateScheduler,\n",
    "    Callback,\n",
    "    TensorBoard,\n",
    ")\n",
    "# for metrics\n",
    "from sklearn.utils.class_weight import compute_class_weight\n",
    "from sklearn.metrics import (\n",
    "    classification_report, \n",
    "    confusion_matrix, \n",
    "    plot_confusion_matrix, \n",
    "    auc,\n",
    "    roc_auc_score,\n",
    "    roc_curve,\n",
    ")\n",
    "\n",
    "# ignore warnings\n",
    "warnings.filterwarnings(\"ignore\")\n",
    "print(\"[INFO] All required packages are ready...\")\n"
   ],
   "outputs": [
    {
     "output_type": "stream",
     "name": "stdout",
     "text": [
      "[INFO] All required packages are ready...\n"
     ]
    }
   ],
   "metadata": {
    "execution": {
     "iopub.execute_input": "2021-08-31T01:32:37.142362Z",
     "iopub.status.busy": "2021-08-31T01:32:37.141697Z",
     "iopub.status.idle": "2021-08-31T01:32:42.005442Z",
     "shell.execute_reply": "2021-08-31T01:32:42.004639Z",
     "shell.execute_reply.started": "2021-08-31T00:35:33.838808Z"
    },
    "id": "UEa0EbSIjpbI",
    "outputId": "56d4ea50-750e-43c5-a8e9-6c262cbc32ea",
    "papermill": {
     "duration": 4.931456,
     "end_time": "2021-08-31T01:32:42.005616",
     "exception": false,
     "start_time": "2021-08-31T01:32:37.074160",
     "status": "completed"
    },
    "tags": []
   }
  },
  {
   "cell_type": "markdown",
   "source": [
    "### Check for GPU Access"
   ],
   "metadata": {
    "id": "_ma2Tr5qjpbJ",
    "papermill": {
     "duration": 0.052718,
     "end_time": "2021-08-31T01:32:42.112527",
     "exception": false,
     "start_time": "2021-08-31T01:32:42.059809",
     "status": "completed"
    },
    "tags": []
   }
  },
  {
   "cell_type": "code",
   "execution_count": 2,
   "source": [
    "# check TF vesion\n",
    "print(\"Tensorflow version: \", tf.__version__)\n",
    "\n",
    "# check if GPU is available\n",
    "physical_devices = tf.config.list_physical_devices('GPU')\n",
    "print(\"Num GPUs:\", len(physical_devices))\n",
    "\n",
    "if len(physical_devices) == 0:\n",
    "    print(\"GPU device not found. Running on CPU.\")\n",
    "else:\n",
    "    print('Found GPU at: {}'.format(physical_devices))\n"
   ],
   "outputs": [
    {
     "output_type": "stream",
     "name": "stdout",
     "text": [
      "Tensorflow version:  2.4.1\n",
      "Num GPUs: 1\n",
      "Found GPU at: [PhysicalDevice(name='/physical_device:GPU:0', device_type='GPU')]\n"
     ]
    }
   ],
   "metadata": {
    "execution": {
     "iopub.execute_input": "2021-08-31T01:32:42.362475Z",
     "iopub.status.busy": "2021-08-31T01:32:42.361738Z",
     "iopub.status.idle": "2021-08-31T01:32:42.367909Z",
     "shell.execute_reply": "2021-08-31T01:32:42.367338Z",
     "shell.execute_reply.started": "2021-08-31T00:35:38.657416Z"
    },
    "id": "2Kk903hDjpbK",
    "outputId": "26ccb2ee-5f82-485d-a3a1-884aeacbd99d",
    "papermill": {
     "duration": 0.20258,
     "end_time": "2021-08-31T01:32:42.368069",
     "exception": false,
     "start_time": "2021-08-31T01:32:42.165489",
     "status": "completed"
    },
    "tags": []
   }
  },
  {
   "cell_type": "markdown",
   "source": [
    "### Set Reproducibility Seed"
   ],
   "metadata": {
    "id": "d-o-VskXjpbK",
    "papermill": {
     "duration": 0.053006,
     "end_time": "2021-08-31T01:32:42.474915",
     "exception": false,
     "start_time": "2021-08-31T01:32:42.421909",
     "status": "completed"
    },
    "tags": []
   }
  },
  {
   "cell_type": "code",
   "execution_count": 3,
   "source": [
    "# Reproducibility\n",
    "\n",
    "\n",
    "def set_seed(seed=34):\n",
    "    np.random.seed(seed)\n",
    "    tf.random.set_seed(seed)\n",
    "    os.environ['PYTHONHASHSEED'] = str(seed)\n",
    "    os.environ['TF_DETERMINISTIC_OPS'] = '1'\n",
    "    \n",
    "\n",
    "print(\"[INFO] Reproducubilities are ready...\")\n",
    "set_seed(34)\n"
   ],
   "outputs": [
    {
     "output_type": "stream",
     "name": "stdout",
     "text": [
      "[INFO] Reproducubilities are ready...\n"
     ]
    }
   ],
   "metadata": {
    "execution": {
     "iopub.execute_input": "2021-08-31T01:32:42.587451Z",
     "iopub.status.busy": "2021-08-31T01:32:42.586801Z",
     "iopub.status.idle": "2021-08-31T01:32:42.589568Z",
     "shell.execute_reply": "2021-08-31T01:32:42.590244Z",
     "shell.execute_reply.started": "2021-08-31T00:35:38.802166Z"
    },
    "id": "eq9R6Y9rjpbK",
    "outputId": "6a6f9e7c-a674-47fa-9636-4a97b5279a61",
    "papermill": {
     "duration": 0.062171,
     "end_time": "2021-08-31T01:32:42.590419",
     "exception": false,
     "start_time": "2021-08-31T01:32:42.528248",
     "status": "completed"
    },
    "tags": []
   }
  },
  {
   "cell_type": "markdown",
   "source": [
    "### Mount Google Drive"
   ],
   "metadata": {
    "id": "b_JYXsWPkHUd",
    "papermill": {
     "duration": 0.05317,
     "end_time": "2021-08-31T01:32:42.697517",
     "exception": false,
     "start_time": "2021-08-31T01:32:42.644347",
     "status": "completed"
    },
    "tags": []
   }
  },
  {
   "cell_type": "code",
   "execution_count": 4,
   "source": [
    "# mount google drive\n",
    "# from google.colab import drive\n",
    "\n",
    "# drive.mount('/content/drive')\n"
   ],
   "outputs": [],
   "metadata": {
    "execution": {
     "iopub.execute_input": "2021-08-31T01:32:42.809715Z",
     "iopub.status.busy": "2021-08-31T01:32:42.808430Z",
     "iopub.status.idle": "2021-08-31T01:32:42.810610Z",
     "shell.execute_reply": "2021-08-31T01:32:42.811048Z",
     "shell.execute_reply.started": "2021-08-31T00:35:38.811161Z"
    },
    "id": "tooF_WOOjsrN",
    "outputId": "246f4224-5088-46f5-da5d-89dade47e9c1",
    "papermill": {
     "duration": 0.060563,
     "end_time": "2021-08-31T01:32:42.811189",
     "exception": false,
     "start_time": "2021-08-31T01:32:42.750626",
     "status": "completed"
    },
    "tags": []
   }
  },
  {
   "cell_type": "markdown",
   "source": [
    "### Set Working Directory"
   ],
   "metadata": {
    "id": "cpBRznuZjpbL",
    "papermill": {
     "duration": 0.052769,
     "end_time": "2021-08-31T01:32:42.916742",
     "exception": false,
     "start_time": "2021-08-31T01:32:42.863973",
     "status": "completed"
    },
    "tags": []
   }
  },
  {
   "cell_type": "code",
   "execution_count": 5,
   "source": [
    "import sys\n",
    "\n",
    "# set working directory for kaggle\n",
    "path = '../input/labeled-chest-xray-images'\n",
    "sys.path.insert(0, path)\n",
    "print(\"[INFO]  Working directory path is set up...\")\n",
    "\n",
    "# set working directory for google colab\n",
    "# path = '/content/drive/MyDrive/Colab Notebooks'\n",
    "# sys.path.insert(0, path)\n",
    "# print(\"[INFO]  Working directory path is set up...\")\n"
   ],
   "outputs": [
    {
     "output_type": "stream",
     "name": "stdout",
     "text": [
      "[INFO]  Working directory path is set up...\n"
     ]
    }
   ],
   "metadata": {
    "execution": {
     "iopub.execute_input": "2021-08-31T01:32:43.028547Z",
     "iopub.status.busy": "2021-08-31T01:32:43.027969Z",
     "iopub.status.idle": "2021-08-31T01:32:43.031004Z",
     "shell.execute_reply": "2021-08-31T01:32:43.031575Z",
     "shell.execute_reply.started": "2021-08-31T00:35:38.820040Z"
    },
    "id": "fUjc2nWyjpbL",
    "outputId": "d1eaa1ec-7128-430c-fb4e-939763da807b",
    "papermill": {
     "duration": 0.06182,
     "end_time": "2021-08-31T01:32:43.031744",
     "exception": false,
     "start_time": "2021-08-31T01:32:42.969924",
     "status": "completed"
    },
    "tags": []
   }
  },
  {
   "cell_type": "markdown",
   "source": [
    "### Pull Data from Kaggle and Extract it"
   ],
   "metadata": {
    "id": "nHYrvW13jpbL",
    "papermill": {
     "duration": 0.053026,
     "end_time": "2021-08-31T01:32:43.139504",
     "exception": false,
     "start_time": "2021-08-31T01:32:43.086478",
     "status": "completed"
    },
    "tags": []
   }
  },
  {
   "cell_type": "code",
   "execution_count": 6,
   "source": [
    "# download data from kaggle api\n",
    "# !pip install -q kaggle\n",
    "# !mkdir ~/.kaggle\n",
    "# !cp kaggle.json ~/.kaggle/\n",
    "# !chmod 600 ~/.kaggle/kaggle.json\n",
    "\n",
    "# !kaggle datasets download -d \"tolgadincer/labeled-chest-xray-images\" -p \"~/workspace/ml-apps/input/\"\n"
   ],
   "outputs": [],
   "metadata": {
    "execution": {
     "iopub.execute_input": "2021-08-31T01:32:43.250160Z",
     "iopub.status.busy": "2021-08-31T01:32:43.249462Z",
     "iopub.status.idle": "2021-08-31T01:32:43.252099Z",
     "shell.execute_reply": "2021-08-31T01:32:43.251711Z",
     "shell.execute_reply.started": "2021-08-31T00:35:38.832572Z"
    },
    "id": "x5SuBCXcjpbL",
    "papermill": {
     "duration": 0.05909,
     "end_time": "2021-08-31T01:32:43.252222",
     "exception": false,
     "start_time": "2021-08-31T01:32:43.193132",
     "status": "completed"
    },
    "tags": []
   }
  },
  {
   "cell_type": "code",
   "execution_count": 7,
   "source": [
    "# from utils.unzip_file import unzip_file\n",
    "\n",
    "# # path where our data resides\n",
    "# file_path = '/content/drive/MyDrive/input/chest_xray.zip'\n",
    "\n",
    "# # for google colab\n",
    "# unzip_file(file_path)\n",
    "# print(\"[INFO]  Data has been unzipped...\")\n"
   ],
   "outputs": [],
   "metadata": {
    "execution": {
     "iopub.execute_input": "2021-08-31T01:32:43.362653Z",
     "iopub.status.busy": "2021-08-31T01:32:43.361919Z",
     "iopub.status.idle": "2021-08-31T01:32:43.364585Z",
     "shell.execute_reply": "2021-08-31T01:32:43.364165Z",
     "shell.execute_reply.started": "2021-08-31T00:35:38.844071Z"
    },
    "id": "xLZQqyxbjpbM",
    "outputId": "c578c627-4fb0-4289-d2d6-39361a6a1fdb",
    "papermill": {
     "duration": 0.058978,
     "end_time": "2021-08-31T01:32:43.364694",
     "exception": false,
     "start_time": "2021-08-31T01:32:43.305716",
     "status": "completed"
    },
    "tags": []
   }
  },
  {
   "cell_type": "markdown",
   "source": [
    "# Load Data"
   ],
   "metadata": {
    "id": "zYPlOwPJjpbM",
    "papermill": {
     "duration": 0.05324,
     "end_time": "2021-08-31T01:32:43.471298",
     "exception": false,
     "start_time": "2021-08-31T01:32:43.418058",
     "status": "completed"
    },
    "tags": []
   }
  },
  {
   "cell_type": "code",
   "execution_count": 8,
   "source": [
    "# set kaggle image data directories\n",
    "MAIN_DIR =  \"../input/labeled-chest-xray-images/chest_xray\"\n",
    "TRAIN_DIR = os.path.join(MAIN_DIR, 'train')\n",
    "TEST_DIR = os.path.join(MAIN_DIR, 'test')\n",
    "\n",
    "# look into train folder for .jpg files for normal and pneumonia images\n",
    "NORMAL_TRAIN_IMAGES = os.path.join(MAIN_DIR, \"train/NORMAL/\")\n",
    "PNEUMONIA_TRAIN_IMAGES = os.path.join(MAIN_DIR, \"train/PNEUMONIA/\")\n",
    "\n",
    "# look into train folder for .jpg files for normal and pneumonia images\n",
    "NORMAL_TEST_IMAGES = os.path.join(MAIN_DIR, \"NORMAL\")\n",
    "PNEUMONIA_TES_IMAGES = os.path.join(MAIN_DIR, \"PNEUMONIA\")\n",
    "\n",
    "print(\"[INFO] Data directories are ready...\")\n"
   ],
   "outputs": [
    {
     "output_type": "stream",
     "name": "stdout",
     "text": [
      "[INFO] Data directories are ready...\n"
     ]
    }
   ],
   "metadata": {
    "execution": {
     "iopub.execute_input": "2021-08-31T01:32:43.584315Z",
     "iopub.status.busy": "2021-08-31T01:32:43.583677Z",
     "iopub.status.idle": "2021-08-31T01:32:43.586752Z",
     "shell.execute_reply": "2021-08-31T01:32:43.587327Z",
     "shell.execute_reply.started": "2021-08-31T00:35:38.852988Z"
    },
    "id": "YN-TwLKmjpbM",
    "outputId": "c7ba2c5c-318c-43f4-cd4f-3f2a930d9a7f",
    "papermill": {
     "duration": 0.06302,
     "end_time": "2021-08-31T01:32:43.587494",
     "exception": false,
     "start_time": "2021-08-31T01:32:43.524474",
     "status": "completed"
    },
    "tags": []
   }
  },
  {
   "cell_type": "code",
   "execution_count": 9,
   "source": [
    "# print some image file names\n",
    "train_normal_names = os.listdir(NORMAL_TRAIN_IMAGES)\n",
    "print(train_normal_names[:3])\n"
   ],
   "outputs": [
    {
     "output_type": "stream",
     "name": "stdout",
     "text": [
      "['NORMAL-705219-0001.jpeg', 'NORMAL-9031828-0001.jpeg', 'NORMAL-9211217-0001.jpeg']\n"
     ]
    }
   ],
   "metadata": {
    "execution": {
     "iopub.execute_input": "2021-08-31T01:32:43.698984Z",
     "iopub.status.busy": "2021-08-31T01:32:43.698481Z",
     "iopub.status.idle": "2021-08-31T01:32:43.792802Z",
     "shell.execute_reply": "2021-08-31T01:32:43.793498Z",
     "shell.execute_reply.started": "2021-08-31T00:35:38.862859Z"
    },
    "id": "Enun0VNsjpbN",
    "outputId": "47f5e1f4-9fa1-4ae0-b32d-56d7e4f9a206",
    "papermill": {
     "duration": 0.15197,
     "end_time": "2021-08-31T01:32:43.793671",
     "exception": false,
     "start_time": "2021-08-31T01:32:43.641701",
     "status": "completed"
    },
    "tags": []
   }
  },
  {
   "cell_type": "code",
   "execution_count": 10,
   "source": [
    "# let's verify we have two classes\n",
    "classes = os.listdir(TRAIN_DIR)\n",
    "num_classes = len(classes)\n",
    "print('Number of classes: ', num_classes)\n"
   ],
   "outputs": [
    {
     "output_type": "stream",
     "name": "stdout",
     "text": [
      "Number of classes:  2\n"
     ]
    }
   ],
   "metadata": {
    "execution": {
     "iopub.execute_input": "2021-08-31T01:32:43.905739Z",
     "iopub.status.busy": "2021-08-31T01:32:43.905123Z",
     "iopub.status.idle": "2021-08-31T01:32:43.912133Z",
     "shell.execute_reply": "2021-08-31T01:32:43.911742Z",
     "shell.execute_reply.started": "2021-08-31T00:35:39.118962Z"
    },
    "id": "zlY-7IbijpbN",
    "outputId": "072a1529-1134-4bd8-df31-d156b7e1655b",
    "papermill": {
     "duration": 0.063871,
     "end_time": "2021-08-31T01:32:43.912280",
     "exception": false,
     "start_time": "2021-08-31T01:32:43.848409",
     "status": "completed"
    },
    "tags": []
   }
  },
  {
   "cell_type": "markdown",
   "source": [
    "## Data Preprocessing and Use Data Augmentation\n",
    "\n",
    "In order to avoid an overfitting problem, we need to expand our dataset artificially.\n",
    "We can make this X-ray mages even larger. The idea is to alter the training data with small transformations to reproduce some variations. \n",
    "\n",
    "Data augmentatation technique will occur on the **training data** in ways that change the array representation while keeping the label the same.  Some popular augmentations are grayscales, horizontal flips, vertical flips, random crops, color jitters, translations, rotations, and much more.  By applying just a couple of these transformations to our training data, we can easily double or triple the number of training examples and create a very robust model.\n",
    "\n",
    "We can use in-place data augmentation or on-the-fly data augmentation.  We call this “in-place” and “on-the-fly” data augmentation because this augmentation is done at training time.\n",
    "\n",
    "**Note**: For this model, data augmentation is included but at minimum because Medical X-ray scans are only taken in a specific orientation, and variations such as flips and rotations will not exist in real X-ray images.\n"
   ],
   "metadata": {
    "id": "a_2UjeOfjpbN",
    "papermill": {
     "duration": 0.054062,
     "end_time": "2021-08-31T01:32:44.020526",
     "exception": false,
     "start_time": "2021-08-31T01:32:43.966464",
     "status": "completed"
    },
    "tags": []
   }
  },
  {
   "cell_type": "markdown",
   "source": [
    "### Set Hyperparameter, Metrics and other variables"
   ],
   "metadata": {
    "id": "kYW_a2sDjpbO",
    "papermill": {
     "duration": 0.054792,
     "end_time": "2021-08-31T01:32:44.129556",
     "exception": false,
     "start_time": "2021-08-31T01:32:44.074764",
     "status": "completed"
    },
    "tags": []
   }
  },
  {
   "cell_type": "code",
   "execution_count": 11,
   "source": [
    "# set a seed for data generators\n",
    "data_seed = 1\n",
    "\n",
    "# set class labels \n",
    "class_names = ['NORMAL', 'PNEUMONIA'] \n",
    "\n",
    "# set our image size\n",
    "image_size = (224, 224)\n",
    "\n",
    "# Initiate an input layer to pass our image size\n",
    "input_shape = image_size + (3, )\n",
    "\n",
    "# hyperparameter\n",
    "batch_size = 32\n",
    "epochs = 20\n",
    "learning_rate = 1e-4\n",
    "\n",
    "# optimizer \n",
    "opt = Adam(\n",
    "    learning_rate=learning_rate,\n",
    "    amsgrad=False,\n",
    "    name='Adam',\n",
    ")\n",
    "\n",
    "# metrics\n",
    "METRICS = [\n",
    "    'accuracy',\n",
    "    AUC(name='auc'),\n",
    "    AUC(name='prc', curve='PR'), # precision-recall curve\n",
    "    \n",
    "]\n",
    "\n",
    "metrics = METRICS\n",
    "\n",
    "# define loss\n",
    "loss = ['binary_crossentropy']\n"
   ],
   "outputs": [],
   "metadata": {
    "execution": {
     "iopub.execute_input": "2021-08-31T01:32:44.245104Z",
     "iopub.status.busy": "2021-08-31T01:32:44.244353Z",
     "iopub.status.idle": "2021-08-31T01:32:45.970585Z",
     "shell.execute_reply": "2021-08-31T01:32:45.970007Z",
     "shell.execute_reply.started": "2021-08-31T00:35:39.128648Z"
    },
    "id": "lWkLsD6sjpbO",
    "papermill": {
     "duration": 1.786738,
     "end_time": "2021-08-31T01:32:45.970736",
     "exception": false,
     "start_time": "2021-08-31T01:32:44.183998",
     "status": "completed"
    },
    "tags": []
   }
  },
  {
   "cell_type": "markdown",
   "source": [
    "## Generate data batches for train/test images"
   ],
   "metadata": {
    "id": "TdAEmcpBjpbO",
    "papermill": {
     "duration": 0.053396,
     "end_time": "2021-08-31T01:32:46.079014",
     "exception": false,
     "start_time": "2021-08-31T01:32:46.025618",
     "status": "completed"
    },
    "tags": []
   }
  },
  {
   "cell_type": "code",
   "execution_count": 12,
   "source": [
    "# Generate batches of tensor image data with real-time data augmentation\n",
    "# Takes the path to a directory & generates batches of augmented data\n",
    "\n",
    "\n",
    "def get_train_generator(\n",
    "    dir_path, image_size, batch_size, class_names, seed, shuffle=True\n",
    "):\n",
    "    \"\"\"\n",
    "    Initiating data augment generator that rescale and resizes.\n",
    "    Scale all pixel intensities to the range [0, 1].\n",
    "    \"\"\"\n",
    "    # initialize the training data augmentation object\n",
    "    datagen_train = ImageDataGenerator(\n",
    "        rescale=1./255,\n",
    "        width_shift_range=0.15,\n",
    "        height_shift_range=0.15,\n",
    "        shear_range=0.15,\n",
    "        zoom_range=0.2,\n",
    "    )\n",
    "\n",
    "    # initialize the training generator\n",
    "    train_generator_ = datagen_train.flow_from_directory(\n",
    "        directory=dir_path,\n",
    "        target_size=image_size,\n",
    "        batch_size=batch_size,\n",
    "        class_mode=\"binary\",\n",
    "        classes=class_names,\n",
    "        seed=seed,\n",
    "        shuffle=shuffle,\n",
    "    )\n",
    "\n",
    "    return train_generator_\n",
    "\n",
    "\n",
    "\n",
    "def get_test_generator(\n",
    "    dir_path, image_size, batch_size, class_names, seed, shuffle=False\n",
    "):\n",
    "    \"\"\"\n",
    "    initiating data augment generator that rescale and resizes.\n",
    "    Scale all pixel intensities to the range [0, 1].\n",
    "    \"\"\"\n",
    "    # initialize the training data augmentation object\n",
    "    datagen_test = ImageDataGenerator(\n",
    "        rescale=1./255,\n",
    "    )\n",
    "\n",
    "    # initialize the training generator\n",
    "    test_generator_ = datagen_test.flow_from_directory(\n",
    "        directory=dir_path,\n",
    "        target_size=image_size,\n",
    "        batch_size=batch_size,\n",
    "        class_mode=\"binary\",\n",
    "        classes=class_names,\n",
    "        seed=seed,\n",
    "        shuffle=shuffle,\n",
    "    )\n",
    "\n",
    "    return test_generator_\n",
    "\n",
    " \n",
    "print(\"[INFO] Pipeline for data batches has been generated...\")\n"
   ],
   "outputs": [
    {
     "output_type": "stream",
     "name": "stdout",
     "text": [
      "[INFO] Pipeline for data batches has been generated...\n"
     ]
    }
   ],
   "metadata": {
    "execution": {
     "iopub.execute_input": "2021-08-31T01:32:46.195791Z",
     "iopub.status.busy": "2021-08-31T01:32:46.195152Z",
     "iopub.status.idle": "2021-08-31T01:32:46.197974Z",
     "shell.execute_reply": "2021-08-31T01:32:46.198550Z",
     "shell.execute_reply.started": "2021-08-31T00:35:40.968787Z"
    },
    "id": "0mxKy8KfjpbO",
    "outputId": "5b940ec8-b088-4b54-914c-692afccd43f5",
    "papermill": {
     "duration": 0.066129,
     "end_time": "2021-08-31T01:32:46.198722",
     "exception": false,
     "start_time": "2021-08-31T01:32:46.132593",
     "status": "completed"
    },
    "tags": []
   }
  },
  {
   "cell_type": "markdown",
   "source": [
    "**Data augmentation** will run on-device synchronously with the rest of our layers and benefit from GPU acceleration.\n",
    "\n",
    "For the data augmentation, the following were chosen:\n",
    "\n",
    "1. Randomly Zoom by 20% some training images\n",
    "2. Randomly width shift range images by 15%\n",
    "3. As well as, randomly height shift range images by 15%\n",
    "4. Radomly shearrange images by 15% \n",
    "\n",
    "**Note**: Data augmentation is inactive at test time so input images will only be augmented during calls to model.fit (not model.evaluate or model.predict).\n"
   ],
   "metadata": {
    "id": "eApTJ5UqjpbP",
    "papermill": {
     "duration": 0.05414,
     "end_time": "2021-08-31T01:32:46.308218",
     "exception": false,
     "start_time": "2021-08-31T01:32:46.254078",
     "status": "completed"
    },
    "tags": []
   }
  },
  {
   "cell_type": "code",
   "execution_count": 13,
   "source": [
    "print(\"[INFO] Getting information for data generators...\")\n",
    "\n",
    "# get training images\n",
    "train_data = get_train_generator(\n",
    "    TRAIN_DIR,\n",
    "    image_size,\n",
    "    batch_size,\n",
    "    class_names,\n",
    "    data_seed,\n",
    ")\n",
    "\n",
    "test_data = get_test_generator(\n",
    "    TEST_DIR,\n",
    "    image_size,\n",
    "    batch_size,\n",
    "    class_names,\n",
    "    data_seed,\n",
    ")\n"
   ],
   "outputs": [
    {
     "output_type": "stream",
     "name": "stdout",
     "text": [
      "[INFO] Getting information for data generators...\n",
      "Found 5232 images belonging to 2 classes.\n",
      "Found 624 images belonging to 2 classes.\n"
     ]
    }
   ],
   "metadata": {
    "execution": {
     "iopub.execute_input": "2021-08-31T01:32:46.422013Z",
     "iopub.status.busy": "2021-08-31T01:32:46.421470Z",
     "iopub.status.idle": "2021-08-31T01:32:49.077698Z",
     "shell.execute_reply": "2021-08-31T01:32:49.078924Z",
     "shell.execute_reply.started": "2021-08-31T00:35:40.980912Z"
    },
    "id": "Hkhn6lhNjpbP",
    "outputId": "40700956-b202-4927-91b8-100db5a349d4",
    "papermill": {
     "duration": 2.716815,
     "end_time": "2021-08-31T01:32:49.079136",
     "exception": false,
     "start_time": "2021-08-31T01:32:46.362321",
     "status": "completed"
    },
    "tags": []
   }
  },
  {
   "cell_type": "code",
   "execution_count": 14,
   "source": [
    "import copy \n",
    "\n",
    "# Visualizando data augmentation para 1 imagen\n",
    "fig = plt.gcf()\n",
    "fig.set_size_inches(10, 10)\n",
    "\n",
    "it = copy.copy(train_data)\n",
    "\n",
    "for i in range(9):\n",
    "\tplt.subplot(3, 3, 1 + i)\n",
    "\tbatch = it.next()[0]\n",
    "\timagenp = (batch[0]*255).astype('uint8')\n",
    "\tplt.imshow(imagenp)\n",
    " "
   ],
   "outputs": [
    {
     "output_type": "display_data",
     "data": {
      "image/png": "[encoded data removed]",
      "text/plain": [
       "<Figure size 720x720 with 9 Axes>"
      ]
     },
     "metadata": {
      "needs_background": "light"
     }
    }
   ],
   "metadata": {
    "execution": {
     "iopub.execute_input": "2021-08-31T01:32:49.210447Z",
     "iopub.status.busy": "2021-08-31T01:32:49.209677Z",
     "iopub.status.idle": "2021-08-31T01:32:58.135242Z",
     "shell.execute_reply": "2021-08-31T01:32:58.135706Z",
     "shell.execute_reply.started": "2021-08-31T00:35:45.991739Z"
    },
    "papermill": {
     "duration": 9.001421,
     "end_time": "2021-08-31T01:32:58.135873",
     "exception": false,
     "start_time": "2021-08-31T01:32:49.134452",
     "status": "completed"
    },
    "tags": []
   }
  },
  {
   "cell_type": "markdown",
   "source": [
    "### Confirm classes"
   ],
   "metadata": {
    "id": "3hl1l9m4jpbP",
    "papermill": {
     "duration": 0.06009,
     "end_time": "2021-08-31T01:32:58.256691",
     "exception": false,
     "start_time": "2021-08-31T01:32:58.196601",
     "status": "completed"
    },
    "tags": []
   }
  },
  {
   "cell_type": "code",
   "execution_count": 15,
   "source": [
    "train_data.classes"
   ],
   "outputs": [
    {
     "output_type": "execute_result",
     "data": {
      "text/plain": [
       "array([0, 0, 0, ..., 1, 1, 1], dtype=int32)"
      ]
     },
     "metadata": {},
     "execution_count": 15
    }
   ],
   "metadata": {
    "execution": {
     "iopub.execute_input": "2021-08-31T01:32:58.384524Z",
     "iopub.status.busy": "2021-08-31T01:32:58.383820Z",
     "iopub.status.idle": "2021-08-31T01:32:58.388543Z",
     "shell.execute_reply": "2021-08-31T01:32:58.388944Z",
     "shell.execute_reply.started": "2021-08-31T00:35:55.755760Z"
    },
    "id": "GnPGuWVzjpbP",
    "outputId": "b8ad0b73-0e60-4f81-f070-b7960ac85c1d",
    "papermill": {
     "duration": 0.071926,
     "end_time": "2021-08-31T01:32:58.389077",
     "exception": false,
     "start_time": "2021-08-31T01:32:58.317151",
     "status": "completed"
    },
    "tags": []
   }
  },
  {
   "cell_type": "code",
   "execution_count": 16,
   "source": [
    "train_data.class_indices"
   ],
   "outputs": [
    {
     "output_type": "execute_result",
     "data": {
      "text/plain": [
       "{'NORMAL': 0, 'PNEUMONIA': 1}"
      ]
     },
     "metadata": {},
     "execution_count": 16
    }
   ],
   "metadata": {
    "execution": {
     "iopub.execute_input": "2021-08-31T01:32:58.514351Z",
     "iopub.status.busy": "2021-08-31T01:32:58.513797Z",
     "iopub.status.idle": "2021-08-31T01:32:58.519405Z",
     "shell.execute_reply": "2021-08-31T01:32:58.518958Z",
     "shell.execute_reply.started": "2021-08-31T00:35:55.766592Z"
    },
    "id": "CNlo67zFjpbQ",
    "outputId": "c707e25e-0a3f-4ba4-f38f-53533fa5c5d1",
    "papermill": {
     "duration": 0.069926,
     "end_time": "2021-08-31T01:32:58.519516",
     "exception": false,
     "start_time": "2021-08-31T01:32:58.449590",
     "status": "completed"
    },
    "tags": []
   }
  },
  {
   "cell_type": "markdown",
   "source": [
    "### Check shape of image batches"
   ],
   "metadata": {
    "id": "_IlXpgvUjpbQ",
    "papermill": {
     "duration": 0.064008,
     "end_time": "2021-08-31T01:32:58.645371",
     "exception": false,
     "start_time": "2021-08-31T01:32:58.581363",
     "status": "completed"
    },
    "tags": []
   }
  },
  {
   "cell_type": "code",
   "execution_count": 17,
   "source": [
    "# see the shape of the image batches\n",
    "for image_batch, labels_batch in train_data:\n",
    "    print('\\nImage Shape: ')\n",
    "    print(image_batch.shape)\n",
    "    print(labels_batch.shape)\n",
    "    break\n"
   ],
   "outputs": [
    {
     "output_type": "stream",
     "name": "stdout",
     "text": [
      "\n",
      "Image Shape: \n",
      "(32, 224, 224, 3)\n",
      "(32,)\n"
     ]
    }
   ],
   "metadata": {
    "execution": {
     "iopub.execute_input": "2021-08-31T01:32:58.772657Z",
     "iopub.status.busy": "2021-08-31T01:32:58.771446Z",
     "iopub.status.idle": "2021-08-31T01:32:59.478825Z",
     "shell.execute_reply": "2021-08-31T01:32:59.479766Z",
     "shell.execute_reply.started": "2021-08-31T00:35:55.777399Z"
    },
    "id": "q7_A533_jpbQ",
    "outputId": "b198f425-f9a6-4e9b-88ea-676be2d16844",
    "papermill": {
     "duration": 0.773641,
     "end_time": "2021-08-31T01:32:59.479972",
     "exception": false,
     "start_time": "2021-08-31T01:32:58.706331",
     "status": "completed"
    },
    "tags": []
   }
  },
  {
   "cell_type": "markdown",
   "source": [
    "The image_batch is a tensor of the shape (32, 224, 224, 3). \n",
    "\n",
    "This is a batch of 32 images of shape 224x224x3 (the last dimension refers to color channels RGB). \n",
    "The label_batch is a tensor of the shape (32,), these are corresponding labels to the 32 images.\n"
   ],
   "metadata": {
    "id": "VMoOyReMjpbQ",
    "papermill": {
     "duration": 0.061549,
     "end_time": "2021-08-31T01:32:59.603526",
     "exception": false,
     "start_time": "2021-08-31T01:32:59.541977",
     "status": "completed"
    },
    "tags": []
   }
  },
  {
   "cell_type": "markdown",
   "source": [
    "### Calculate training steps and validation steps per epoch"
   ],
   "metadata": {
    "id": "sRA6VQjLjpbQ",
    "papermill": {
     "duration": 0.061289,
     "end_time": "2021-08-31T01:32:59.726260",
     "exception": false,
     "start_time": "2021-08-31T01:32:59.664971",
     "status": "completed"
    },
    "tags": []
   }
  },
  {
   "cell_type": "code",
   "execution_count": 18,
   "source": [
    "# Calculate steps_per_epoch and validation_steps\n",
    "\n",
    "# train images\n",
    "train_samples = 5232\n",
    "# validation_samples = 1045\n",
    "test_samples = 624\n",
    "\n",
    "def compute_steps_per_epoch(x):\n",
    "    return int(math.ceil(1. * x / batch_size))\n",
    "\n",
    "steps_per_epoch = compute_steps_per_epoch(train_samples)\n",
    "val_steps = compute_steps_per_epoch(test_samples)\n",
    "# test_steps = compute_steps_per_epoch(test_samples)\n",
    "# see steps results\n",
    "steps_per_epoch, val_steps\n"
   ],
   "outputs": [
    {
     "output_type": "execute_result",
     "data": {
      "text/plain": [
       "(164, 20)"
      ]
     },
     "metadata": {},
     "execution_count": 18
    }
   ],
   "metadata": {
    "execution": {
     "iopub.execute_input": "2021-08-31T01:32:59.855308Z",
     "iopub.status.busy": "2021-08-31T01:32:59.854593Z",
     "iopub.status.idle": "2021-08-31T01:32:59.857762Z",
     "shell.execute_reply": "2021-08-31T01:32:59.858153Z",
     "shell.execute_reply.started": "2021-08-31T00:35:56.611242Z"
    },
    "id": "vUBi1xt0jpbQ",
    "outputId": "b62c4933-451e-4ad5-d751-7d03ad64bc41",
    "papermill": {
     "duration": 0.071161,
     "end_time": "2021-08-31T01:32:59.858310",
     "exception": false,
     "start_time": "2021-08-31T01:32:59.787149",
     "status": "completed"
    },
    "tags": []
   }
  },
  {
   "cell_type": "markdown",
   "source": [
    "# Modeling and Training\n",
    "\n",
    "Create the base model from the VGG16 model.  This is pre-trained on the ImageNet dataset, a large dataset consisting of 1.4M images and 1000 classes.  ImageNet is a research training dataset with a wide variety of categories images.  This base of knowledge will help us classify if a given X-ray image has pneumonia or not.\n",
    "\n",
    "- First, we'll pick a layer of VGG16 to use for feature extraction. The very last classification layer (on \"top\", as most diagrams of machine learning models go from bottom to top) is not very useful.  Instead, we will follow the common practice to depend on the very last layer.  This layer is called the \"bottleneck layer\".  The bottleneck layer features retain more generality as compared to the top layer.\n",
    "\n",
    "- Second, we'll instantiate a VGG16 model pre-loaded with weights trained on ImageNet. By specifying the include_top=False argument, we'll load a network that doesn't include the classification layers at the top, which is ideal for feature extraction.\n"
   ],
   "metadata": {
    "id": "ghcfoWDXjpbR",
    "papermill": {
     "duration": 0.061447,
     "end_time": "2021-08-31T01:32:59.981403",
     "exception": false,
     "start_time": "2021-08-31T01:32:59.919956",
     "status": "completed"
    },
    "tags": []
   }
  },
  {
   "cell_type": "markdown",
   "source": [
    "### Create the base model from the pre-trained convnets"
   ],
   "metadata": {
    "id": "GqIzjANdjpbR",
    "papermill": {
     "duration": 0.062247,
     "end_time": "2021-08-31T01:33:00.106584",
     "exception": false,
     "start_time": "2021-08-31T01:33:00.044337",
     "status": "completed"
    },
    "tags": []
   }
  },
  {
   "cell_type": "code",
   "execution_count": 19,
   "source": [
    "# Create the base model from the pre-trained model\n",
    "\n",
    "\n",
    "def get_model():\n",
    "    '''load the base model from the pre-trained model VGG16.\n",
    "       Load weights pre-trained on ImageNet.\n",
    "       Do not include the ImageNet classifier at the top.\n",
    "    '''  \n",
    "    # load vgg16 pretrained model\n",
    "    pretrained_model = VGG16(\n",
    "        include_top=False,  \n",
    "        weights='imagenet',\n",
    "        input_shape=input_shape,\n",
    "        classes=1000, \n",
    "        classifier_activation='softmax',\n",
    "    )\n",
    "\n",
    "    return pretrained_model\n",
    "\n",
    "\n",
    "# get pretraind model\n",
    "base_model = get_model()\n",
    "\n",
    "# base model architecture\n",
    "print(\"[INFO] Summary of the pretrained base model architecture.\\n\")\n",
    "base_model.summary()\n"
   ],
   "outputs": [
    {
     "output_type": "stream",
     "name": "stdout",
     "text": [
      "Downloading data from https://storage.googleapis.com/tensorflow/keras-applications/vgg16/vgg16_weights_tf_dim_ordering_tf_kernels_notop.h5\n",
      "58892288/58889256 [==============================] - 0s 0us/step\n",
      "[INFO] Summary of the pretrained base model architecture.\n",
      "\n",
      "Model: \"vgg16\"\n",
      "_________________________________________________________________\n",
      "Layer (type)                 Output Shape              Param #   \n",
      "=================================================================\n",
      "input_1 (InputLayer)         [(None, 224, 224, 3)]     0         \n",
      "_________________________________________________________________\n",
      "block1_conv1 (Conv2D)        (None, 224, 224, 64)      1792      \n",
      "_________________________________________________________________\n",
      "block1_conv2 (Conv2D)        (None, 224, 224, 64)      36928     \n",
      "_________________________________________________________________\n",
      "block1_pool (MaxPooling2D)   (None, 112, 112, 64)      0         \n",
      "_________________________________________________________________\n",
      "block2_conv1 (Conv2D)        (None, 112, 112, 128)     73856     \n",
      "_________________________________________________________________\n",
      "block2_conv2 (Conv2D)        (None, 112, 112, 128)     147584    \n",
      "_________________________________________________________________\n",
      "block2_pool (MaxPooling2D)   (None, 56, 56, 128)       0         \n",
      "_________________________________________________________________\n",
      "block3_conv1 (Conv2D)        (None, 56, 56, 256)       295168    \n",
      "_________________________________________________________________\n",
      "block3_conv2 (Conv2D)        (None, 56, 56, 256)       590080    \n",
      "_________________________________________________________________\n",
      "block3_conv3 (Conv2D)        (None, 56, 56, 256)       590080    \n",
      "_________________________________________________________________\n",
      "block3_pool (MaxPooling2D)   (None, 28, 28, 256)       0         \n",
      "_________________________________________________________________\n",
      "block4_conv1 (Conv2D)        (None, 28, 28, 512)       1180160   \n",
      "_________________________________________________________________\n",
      "block4_conv2 (Conv2D)        (None, 28, 28, 512)       2359808   \n",
      "_________________________________________________________________\n",
      "block4_conv3 (Conv2D)        (None, 28, 28, 512)       2359808   \n",
      "_________________________________________________________________\n",
      "block4_pool (MaxPooling2D)   (None, 14, 14, 512)       0         \n",
      "_________________________________________________________________\n",
      "block5_conv1 (Conv2D)        (None, 14, 14, 512)       2359808   \n",
      "_________________________________________________________________\n",
      "block5_conv2 (Conv2D)        (None, 14, 14, 512)       2359808   \n",
      "_________________________________________________________________\n",
      "block5_conv3 (Conv2D)        (None, 14, 14, 512)       2359808   \n",
      "_________________________________________________________________\n",
      "block5_pool (MaxPooling2D)   (None, 7, 7, 512)         0         \n",
      "=================================================================\n",
      "Total params: 14,714,688\n",
      "Trainable params: 14,714,688\n",
      "Non-trainable params: 0\n",
      "_________________________________________________________________\n"
     ]
    }
   ],
   "metadata": {
    "execution": {
     "iopub.execute_input": "2021-08-31T01:33:00.239005Z",
     "iopub.status.busy": "2021-08-31T01:33:00.238206Z",
     "iopub.status.idle": "2021-08-31T01:33:01.041259Z",
     "shell.execute_reply": "2021-08-31T01:33:01.041936Z",
     "shell.execute_reply.started": "2021-08-31T00:35:56.621607Z"
    },
    "id": "zdwshRzgjpbR",
    "outputId": "6202fe08-99bd-437b-ae17-86f2e0af52ac",
    "papermill": {
     "duration": 0.874048,
     "end_time": "2021-08-31T01:33:01.042103",
     "exception": false,
     "start_time": "2021-08-31T01:33:00.168055",
     "status": "completed"
    },
    "tags": []
   }
  },
  {
   "cell_type": "markdown",
   "source": [
    "We have **5 blocks** available to train. For the moment we have 0 non-trainable params but will add some when we do some feature extraction.\n"
   ],
   "metadata": {
    "id": "vj8HEX2vjpbR",
    "papermill": {
     "duration": 0.068606,
     "end_time": "2021-08-31T01:33:01.175649",
     "exception": false,
     "start_time": "2021-08-31T01:33:01.107043",
     "status": "completed"
    },
    "tags": []
   }
  },
  {
   "cell_type": "code",
   "execution_count": 20,
   "source": [
    "# check out the dense layer we'll connect to\n",
    "base_model.output\n"
   ],
   "outputs": [
    {
     "output_type": "execute_result",
     "data": {
      "text/plain": [
       "<KerasTensor: shape=(None, 7, 7, 512) dtype=float32 (created by layer 'block5_pool')>"
      ]
     },
     "metadata": {},
     "execution_count": 20
    }
   ],
   "metadata": {
    "execution": {
     "iopub.execute_input": "2021-08-31T01:33:01.422043Z",
     "iopub.status.busy": "2021-08-31T01:33:01.421205Z",
     "iopub.status.idle": "2021-08-31T01:33:01.424644Z",
     "shell.execute_reply": "2021-08-31T01:33:01.422754Z",
     "shell.execute_reply.started": "2021-08-31T00:35:57.468339Z"
    },
    "id": "1TlaQVqPjpbR",
    "outputId": "15fe0354-1e95-493e-b1c0-0151a09d9e81",
    "papermill": {
     "duration": 0.141401,
     "end_time": "2021-08-31T01:33:01.424812",
     "exception": false,
     "start_time": "2021-08-31T01:33:01.283411",
     "status": "completed"
    },
    "tags": []
   }
  },
  {
   "cell_type": "markdown",
   "source": [
    "## Feature extraction\n",
    "\n",
    "We'll freeze the convolutional base created from the previous step and to use as a feature extractor. Additionally, we'll add a classifier on top of it and train the top-level classifier.\n",
    "\n",
    "- We utilize an existing pre-trained classifier as a starting point for a new classification.\n",
    "\n",
    "- First, we will treat networks as arbitrary feature extractors.  \n",
    "- Then, we'll use the representations learned by a previous network to extract meaningful features from new samples.  \n",
    "- We'll add a new classifier, which will be trained from scratch, on top of the pretrained model so that we can repurpose the feature maps learned previously for the dataset.\n",
    "\n",
    "Therefore. we do not need to retrain the entire model.  The base convolutional network already contains features that are generically useful for classifying pictures.  However, the final, classification part of the pretrained model is specific to the original classification task, and subsequently specific to the set of classes on which the model was trained.\n",
    "\n",
    "When performing feature extraction, we treat the pre-trained network as an arbitrary feature extractor, allowing the input image to propagate forward, stopping at pre-specified layer, and taking the outputs of that layer as our features.\n"
   ],
   "metadata": {
    "id": "xg232PR7jpbR",
    "papermill": {
     "duration": 0.113857,
     "end_time": "2021-08-31T01:33:01.641325",
     "exception": false,
     "start_time": "2021-08-31T01:33:01.527468",
     "status": "completed"
    },
    "tags": []
   }
  },
  {
   "cell_type": "markdown",
   "source": [
    "### Freeze the convolutional base\n",
    "\n",
    "We'll add a classification head and compile the model.  When using Transfer learning via feature extraction it is important to freeze the convolutional base before we compile and train the model.\n",
    "\n",
    "Freezing (*by setting layer.trainable = False*) prevents the weights in a given layer from being updated during training.\n"
   ],
   "metadata": {
    "id": "zFU_9gnSjpbS",
    "papermill": {
     "duration": 0.107317,
     "end_time": "2021-08-31T01:33:01.852699",
     "exception": false,
     "start_time": "2021-08-31T01:33:01.745382",
     "status": "completed"
    },
    "tags": []
   }
  },
  {
   "cell_type": "code",
   "execution_count": 21,
   "source": [
    "# loop over all layers in the base model and freeze them so they will\n",
    "# not be updated during the first training process  \n",
    "print(\"[INFO] Base model layers have been frozen...\")\n",
    "for layer in base_model.layers:\n",
    "    layer.trainable = False\n"
   ],
   "outputs": [
    {
     "output_type": "stream",
     "name": "stdout",
     "text": [
      "[INFO] Base model layers have been frozen...\n"
     ]
    }
   ],
   "metadata": {
    "execution": {
     "iopub.execute_input": "2021-08-31T01:33:02.099522Z",
     "iopub.status.busy": "2021-08-31T01:33:02.098517Z",
     "iopub.status.idle": "2021-08-31T01:33:02.103305Z",
     "shell.execute_reply": "2021-08-31T01:33:02.100272Z",
     "shell.execute_reply.started": "2021-08-31T00:35:57.478677Z"
    },
    "id": "bjPRU3wOjpbS",
    "outputId": "e6295443-d877-4a59-b00f-c516c508a39f",
    "papermill": {
     "duration": 0.143584,
     "end_time": "2021-08-31T01:33:02.103615",
     "exception": false,
     "start_time": "2021-08-31T01:33:01.960031",
     "status": "completed"
    },
    "tags": []
   }
  },
  {
   "cell_type": "code",
   "execution_count": 22,
   "source": [
    "# Let's confirm our layers are not trainable \n",
    "# Should be noted as False = Not trainable\n",
    "\n",
    "for (i, layer) in enumerate(base_model.layers):\n",
    "    print(str(i) + \" \"+ layer.__class__.__name__, layer.trainable)\n"
   ],
   "outputs": [
    {
     "output_type": "stream",
     "name": "stdout",
     "text": [
      "0 InputLayer False\n",
      "1 Conv2D False\n",
      "2 Conv2D False\n",
      "3 MaxPooling2D False\n",
      "4 Conv2D False\n",
      "5 Conv2D False\n",
      "6 MaxPooling2D False\n",
      "7 Conv2D False\n",
      "8 Conv2D False\n",
      "9 Conv2D False\n",
      "10 MaxPooling2D False\n",
      "11 Conv2D False\n",
      "12 Conv2D False\n",
      "13 Conv2D False\n",
      "14 MaxPooling2D False\n",
      "15 Conv2D False\n",
      "16 Conv2D False\n",
      "17 Conv2D False\n",
      "18 MaxPooling2D False\n"
     ]
    }
   ],
   "metadata": {
    "execution": {
     "iopub.execute_input": "2021-08-31T01:33:02.498310Z",
     "iopub.status.busy": "2021-08-31T01:33:02.496010Z",
     "iopub.status.idle": "2021-08-31T01:33:02.500934Z",
     "shell.execute_reply": "2021-08-31T01:33:02.498800Z",
     "shell.execute_reply.started": "2021-08-31T00:35:57.487403Z"
    },
    "id": "1QRmAsHEjpbS",
    "outputId": "d92b677a-5745-4ac9-c339-714fbcd21545",
    "papermill": {
     "duration": 0.243789,
     "end_time": "2021-08-31T01:33:02.501101",
     "exception": false,
     "start_time": "2021-08-31T01:33:02.257312",
     "status": "completed"
    },
    "tags": []
   }
  },
  {
   "cell_type": "markdown",
   "source": [
    "## Add a classification head to the base model"
   ],
   "metadata": {
    "id": "1N19itNejpbS",
    "papermill": {
     "duration": 0.106459,
     "end_time": "2021-08-31T01:33:02.714311",
     "exception": false,
     "start_time": "2021-08-31T01:33:02.607852",
     "status": "completed"
    },
    "tags": []
   }
  },
  {
   "cell_type": "markdown",
   "source": [
    "This feature extractor converts each 224x224x3 image into a 7x7x512 block of features. Let's see what it does to an example batch of images:"
   ],
   "metadata": {
    "id": "nD1VQ3sCjpbS",
    "papermill": {
     "duration": 0.065244,
     "end_time": "2021-08-31T01:33:02.867887",
     "exception": false,
     "start_time": "2021-08-31T01:33:02.802643",
     "status": "completed"
    },
    "tags": []
   }
  },
  {
   "cell_type": "code",
   "execution_count": 23,
   "source": [
    "image_batch, label_batch = next(iter(train_data))\n",
    "feature_batch = base_model(image_batch)\n",
    "print(feature_batch.shape)\n"
   ],
   "outputs": [
    {
     "output_type": "stream",
     "name": "stdout",
     "text": [
      "(32, 7, 7, 512)\n"
     ]
    }
   ],
   "metadata": {
    "execution": {
     "iopub.execute_input": "2021-08-31T01:33:03.005710Z",
     "iopub.status.busy": "2021-08-31T01:33:03.004537Z",
     "iopub.status.idle": "2021-08-31T01:33:10.514232Z",
     "shell.execute_reply": "2021-08-31T01:33:10.515051Z",
     "shell.execute_reply.started": "2021-08-31T00:35:57.505109Z"
    },
    "id": "TYjqqJ2DjpbS",
    "outputId": "670b5b1f-cd95-48c3-eaa6-0a63c51fedbb",
    "papermill": {
     "duration": 7.582264,
     "end_time": "2021-08-31T01:33:10.515269",
     "exception": false,
     "start_time": "2021-08-31T01:33:02.933005",
     "status": "completed"
    },
    "tags": []
   }
  },
  {
   "cell_type": "markdown",
   "source": [
    "To generate predictions from the block of features, average over the spatial 7x7 spatial locations, using a tf.keras.layers.GlobalAveragePooling2D layer to convert the features to a single 512-element vector per image."
   ],
   "metadata": {
    "id": "RN-nQYZljpbS",
    "papermill": {
     "duration": 0.06622,
     "end_time": "2021-08-31T01:33:10.648093",
     "exception": false,
     "start_time": "2021-08-31T01:33:10.581873",
     "status": "completed"
    },
    "tags": []
   }
  },
  {
   "cell_type": "code",
   "execution_count": 24,
   "source": [
    "global_average_layer = tf.keras.layers.GlobalAveragePooling2D()\n",
    "feature_batch_average = global_average_layer(feature_batch)\n",
    "print(feature_batch_average.shape)\n"
   ],
   "outputs": [
    {
     "output_type": "stream",
     "name": "stdout",
     "text": [
      "(32, 512)\n"
     ]
    }
   ],
   "metadata": {
    "execution": {
     "iopub.execute_input": "2021-08-31T01:33:10.790915Z",
     "iopub.status.busy": "2021-08-31T01:33:10.790323Z",
     "iopub.status.idle": "2021-08-31T01:33:10.799299Z",
     "shell.execute_reply": "2021-08-31T01:33:10.799705Z",
     "shell.execute_reply.started": "2021-08-31T00:36:04.979038Z"
    },
    "id": "tI50oErMjpbT",
    "outputId": "592b6b1a-3678-4485-a9c7-6fc7259b3734",
    "papermill": {
     "duration": 0.085712,
     "end_time": "2021-08-31T01:33:10.799851",
     "exception": false,
     "start_time": "2021-08-31T01:33:10.714139",
     "status": "completed"
    },
    "tags": []
   }
  },
  {
   "cell_type": "markdown",
   "source": [
    "Also, we'll apply a tf.keras.layers.GlobalAverargePooling2D layer to convert these features into a single prediction per image.  \n",
    "\n",
    "We don't need an activation function here because this prediction will be treated as a logit binary, or a raw prediction value.\n"
   ],
   "metadata": {
    "id": "_YoygTjjjpbT",
    "papermill": {
     "duration": 0.065874,
     "end_time": "2021-08-31T01:33:10.932107",
     "exception": false,
     "start_time": "2021-08-31T01:33:10.866233",
     "status": "completed"
    },
    "tags": []
   }
  },
  {
   "cell_type": "markdown",
   "source": [
    "## Construct a top model and compile the model\n",
    "\n",
    "Here, we'll compile the model before training it.  Since we know there are two classes, we'll use a binary cross-entropy loss.  Also, we assume that y_pred encodes a probability distribution and the model provides a linear output.  Thus,  we'll use cross-entropy loss for binary (0 or 1) classification applications.\n",
    "\n",
    "As well as, the label smoothing will produce a float betweein [0, 1]. \n",
    "\n",
    "If the float is greater than 0, then the label smoothing will squeeze them towards 0.5\n",
    "\n",
    "That is, by using 1.0 - 0.5 * label_smoothing for the target class and 0.5 * label_smoothing for the non-target class.\n"
   ],
   "metadata": {
    "id": "KQmlN_wgjpbT",
    "papermill": {
     "duration": 0.065474,
     "end_time": "2021-08-31T01:33:11.063306",
     "exception": false,
     "start_time": "2021-08-31T01:33:10.997832",
     "status": "completed"
    },
    "tags": []
   }
  },
  {
   "cell_type": "code",
   "execution_count": 25,
   "source": [
    "# Construct a new model on top of base model\n",
    "\n",
    "\n",
    "def head_model(metrics, output_bias=None):\n",
    "\n",
    "    '''\n",
    "    Instantiate a Sequential model without an input shape\n",
    "    construct the head model that will be placed on top of the\n",
    "    the base model.  We'll use dropout and then batch normalization \n",
    "    to prevent overfitting.\n",
    "    '''\n",
    "    model = Sequential(\n",
    "        [  \n",
    "            base_model,\n",
    "            GlobalAveragePooling2D(),\n",
    "            Dense(1024, activation='relu'),\n",
    "            Dropout(0.3),\n",
    "            BatchNormalization(),\n",
    "            Dense(units=1, activation='sigmoid', name='prediction_layer'),\n",
    "        ],\n",
    "        \n",
    "        name='Head_model'\n",
    "    )\n",
    "    model.compile(\n",
    "        optimizer=opt,\n",
    "        loss=loss,\n",
    "        metrics=metrics,\n",
    "    )\n",
    "    \n",
    "    return model\n",
    "\n",
    "\n",
    "# place the head FC model on top of the base model (this will become\n",
    "# the actual model we will train)\n",
    "model = head_model(metrics)\n",
    "print(\"[INFO] Getting Head model...\")\n",
    "print(\"[INFO] Classification head model has been compiled ...\")\n",
    "model.summary()\n"
   ],
   "outputs": [
    {
     "output_type": "stream",
     "name": "stdout",
     "text": [
      "[INFO] Getting Head model...\n",
      "[INFO] Classification head model has been compiled ...\n",
      "Model: \"Head_model\"\n",
      "_________________________________________________________________\n",
      "Layer (type)                 Output Shape              Param #   \n",
      "=================================================================\n",
      "vgg16 (Functional)           (None, 7, 7, 512)         14714688  \n",
      "_________________________________________________________________\n",
      "global_average_pooling2d_1 ( (None, 512)               0         \n",
      "_________________________________________________________________\n",
      "dense (Dense)                (None, 1024)              525312    \n",
      "_________________________________________________________________\n",
      "dropout (Dropout)            (None, 1024)              0         \n",
      "_________________________________________________________________\n",
      "batch_normalization (BatchNo (None, 1024)              4096      \n",
      "_________________________________________________________________\n",
      "prediction_layer (Dense)     (None, 1)                 1025      \n",
      "=================================================================\n",
      "Total params: 15,245,121\n",
      "Trainable params: 528,385\n",
      "Non-trainable params: 14,716,736\n",
      "_________________________________________________________________\n"
     ]
    }
   ],
   "metadata": {
    "execution": {
     "iopub.execute_input": "2021-08-31T01:33:11.207874Z",
     "iopub.status.busy": "2021-08-31T01:33:11.207021Z",
     "iopub.status.idle": "2021-08-31T01:33:11.295671Z",
     "shell.execute_reply": "2021-08-31T01:33:11.296261Z",
     "shell.execute_reply.started": "2021-08-31T00:36:04.997047Z"
    },
    "id": "c7Zcc7-6jpbT",
    "outputId": "ef9f9fbd-1e6b-4bcb-ec96-09333d7b9032",
    "papermill": {
     "duration": 0.16779,
     "end_time": "2021-08-31T01:33:11.296440",
     "exception": false,
     "start_time": "2021-08-31T01:33:11.128650",
     "status": "completed"
    },
    "tags": []
   }
  },
  {
   "cell_type": "code",
   "execution_count": 26,
   "source": [
    "# how many trainable varibles we have\n",
    "num_var = len(model.trainable_variables)\n",
    "print(\"[INFO] There are\", num_var , \"trainable variables.\")\n"
   ],
   "outputs": [
    {
     "output_type": "stream",
     "name": "stdout",
     "text": [
      "[INFO] There are 6 trainable variables.\n"
     ]
    }
   ],
   "metadata": {
    "execution": {
     "iopub.execute_input": "2021-08-31T01:33:11.433264Z",
     "iopub.status.busy": "2021-08-31T01:33:11.432612Z",
     "iopub.status.idle": "2021-08-31T01:33:11.436067Z",
     "shell.execute_reply": "2021-08-31T01:33:11.436615Z",
     "shell.execute_reply.started": "2021-08-31T00:36:05.104738Z"
    },
    "id": "K6rGus4fjpbT",
    "papermill": {
     "duration": 0.073962,
     "end_time": "2021-08-31T01:33:11.436787",
     "exception": false,
     "start_time": "2021-08-31T01:33:11.362825",
     "status": "completed"
    },
    "tags": []
   }
  },
  {
   "cell_type": "code",
   "execution_count": 27,
   "source": [
    "# show and save our base model architecture\n",
    "\n",
    "!mkdir -p output/model_architecture\n",
    "\n",
    "head_model_arch = plot_model(\n",
    "    model,\n",
    "    \"output/model_architecture/tuned_model_architecture-01.png\",\n",
    "    show_shapes=True,\n",
    ")\n"
   ],
   "outputs": [],
   "metadata": {
    "execution": {
     "iopub.execute_input": "2021-08-31T01:33:11.573836Z",
     "iopub.status.busy": "2021-08-31T01:33:11.573325Z",
     "iopub.status.idle": "2021-08-31T01:33:12.677220Z",
     "shell.execute_reply": "2021-08-31T01:33:12.676704Z",
     "shell.execute_reply.started": "2021-08-31T00:36:05.112319Z"
    },
    "id": "ikXt_5HwjpbT",
    "papermill": {
     "duration": 1.174311,
     "end_time": "2021-08-31T01:33:12.677363",
     "exception": false,
     "start_time": "2021-08-31T01:33:11.503052",
     "status": "completed"
    },
    "tags": []
   }
  },
  {
   "cell_type": "markdown",
   "source": [
    "## Define Tuning Parameters and Callbacks\n"
   ],
   "metadata": {
    "id": "KYh5FxlyjpbU",
    "papermill": {
     "duration": 0.066072,
     "end_time": "2021-08-31T01:33:12.810066",
     "exception": false,
     "start_time": "2021-08-31T01:33:12.743994",
     "status": "completed"
    },
    "tags": []
   }
  },
  {
   "cell_type": "markdown",
   "source": [
    "### Early stopping\n",
    "\n",
    "Setting up an early stopping callbacks to avoid overfitting\n",
    "and stop it if a validation accuracy is not maximized for 5 epochs.\n"
   ],
   "metadata": {
    "id": "fDlZONLMjpbU",
    "papermill": {
     "duration": 0.066137,
     "end_time": "2021-08-31T01:33:12.941988",
     "exception": false,
     "start_time": "2021-08-31T01:33:12.875851",
     "status": "completed"
    },
    "tags": []
   }
  },
  {
   "cell_type": "code",
   "execution_count": 28,
   "source": [
    "# early stopping callback to prevent overfitting\n",
    "early_stopping = EarlyStopping(\n",
    "    # Stop training when `val_loss` is no longer improving\n",
    "    monitor=\"val_loss\",\n",
    "    # no longer improving being defined as no better than 1e-2 less\n",
    "    min_delta=1e-2,\n",
    "    # no longer improving being further defined as for at least 5 epochs\n",
    "    patience=5,\n",
    "    mode='min',\n",
    "    restore_best_weights=True,\n",
    "    verbose=1,\n",
    ")\n"
   ],
   "outputs": [],
   "metadata": {
    "execution": {
     "iopub.execute_input": "2021-08-31T01:33:13.160898Z",
     "iopub.status.busy": "2021-08-31T01:33:13.160097Z",
     "iopub.status.idle": "2021-08-31T01:33:13.163385Z",
     "shell.execute_reply": "2021-08-31T01:33:13.163973Z",
     "shell.execute_reply.started": "2021-08-31T00:36:06.211898Z"
    },
    "id": "Y9jLKDnBjpbU",
    "papermill": {
     "duration": 0.132927,
     "end_time": "2021-08-31T01:33:13.164156",
     "exception": false,
     "start_time": "2021-08-31T01:33:13.031229",
     "status": "completed"
    },
    "tags": []
   }
  },
  {
   "cell_type": "markdown",
   "source": [
    "### Model checkpoint\n",
    "\n",
    "Create a model checkpoint to save weights of the model at frequent intervals.\n"
   ],
   "metadata": {
    "id": "9gTbAitBjpbU",
    "papermill": {
     "duration": 0.109083,
     "end_time": "2021-08-31T01:33:13.388782",
     "exception": false,
     "start_time": "2021-08-31T01:33:13.279699",
     "status": "completed"
    },
    "tags": []
   }
  },
  {
   "cell_type": "code",
   "execution_count": 29,
   "source": [
    "# Create a ModelCheckpoint callback to save weights only during training\n",
    "# Define the checkpoint directory to store the checkpoints\n",
    "!mkdir -p output/checkpoint_dir\n",
    "\n",
    "checkpoint_dir = \"output/checkpoint_dir\"\n",
    "\n",
    "# Prepare a directory to store all the checkpoints.\n",
    "if not os.path.exists(checkpoint_dir):\n",
    "    os.makedirs(checkpoint_dir)\n",
    "    \n",
    "# Define the name of the checkpoint files.\n",
    "# checkpoint_prefix = os.path.join(checkpoint_dir, \"mymodel_{epoch}\")\n",
    "checkpoint_prefix = os.path.join(checkpoint_dir, 'tuned_wts_model.hdf5')\n",
    "\n",
    "# The two parameters below mean that we will overwrite\n",
    "# the current checkpoint if and only if\n",
    "# the `val_loss` score has improved.\n",
    "# The saved model name will include the current epoch.\n",
    "model_checkpoint_callback = ModelCheckpoint(\n",
    "    filepath=checkpoint_prefix,\n",
    "    monitor='val_loss',\n",
    "    mode='min',\n",
    "    # Only save a model weigts if `val_loss` has improved.\n",
    "    save_weights_only=True,\n",
    "    verbose=1,\n",
    ")\n"
   ],
   "outputs": [],
   "metadata": {
    "execution": {
     "iopub.execute_input": "2021-08-31T01:33:13.597700Z",
     "iopub.status.busy": "2021-08-31T01:33:13.581453Z",
     "iopub.status.idle": "2021-08-31T01:33:14.238036Z",
     "shell.execute_reply": "2021-08-31T01:33:14.237521Z",
     "shell.execute_reply.started": "2021-08-31T00:36:06.218488Z"
    },
    "id": "y7U0YpB3jpbU",
    "papermill": {
     "duration": 0.741167,
     "end_time": "2021-08-31T01:33:14.238158",
     "exception": false,
     "start_time": "2021-08-31T01:33:13.496991",
     "status": "completed"
    },
    "tags": []
   }
  },
  {
   "cell_type": "markdown",
   "source": [
    "### Learning rate scheduler"
   ],
   "metadata": {
    "id": "U_o1u2KAjpbU",
    "papermill": {
     "duration": 0.065917,
     "end_time": "2021-08-31T01:33:14.371610",
     "exception": false,
     "start_time": "2021-08-31T01:33:14.305693",
     "status": "completed"
    },
    "tags": []
   }
  },
  {
   "cell_type": "code",
   "execution_count": 30,
   "source": [
    "# Define a function for decaying the learning rate\n",
    "# This function keeps the initial learning rate for the first specified epochs\n",
    "# and decreases it exponentially after that.\n",
    "\n",
    "def scheduler(epoch, learning_rate):\n",
    "    if epoch < 5:\n",
    "        return learning_rate\n",
    "    else:\n",
    "        return learning_rate * tf.math.exp(-0.1)\n"
   ],
   "outputs": [],
   "metadata": {
    "execution": {
     "iopub.execute_input": "2021-08-31T01:33:14.508790Z",
     "iopub.status.busy": "2021-08-31T01:33:14.508043Z",
     "iopub.status.idle": "2021-08-31T01:33:14.510368Z",
     "shell.execute_reply": "2021-08-31T01:33:14.510809Z",
     "shell.execute_reply.started": "2021-08-31T00:36:06.891387Z"
    },
    "id": "jfmTTYZVjpbU",
    "papermill": {
     "duration": 0.073235,
     "end_time": "2021-08-31T01:33:14.510938",
     "exception": false,
     "start_time": "2021-08-31T01:33:14.437703",
     "status": "completed"
    },
    "tags": []
   }
  },
  {
   "cell_type": "markdown",
   "source": [
    "### Callback for printing the learning rate"
   ],
   "metadata": {
    "id": "cQy1gweXjpbU",
    "papermill": {
     "duration": 0.065938,
     "end_time": "2021-08-31T01:33:14.642814",
     "exception": false,
     "start_time": "2021-08-31T01:33:14.576876",
     "status": "completed"
    },
    "tags": []
   }
  },
  {
   "cell_type": "code",
   "execution_count": 31,
   "source": [
    "# Define a callback for printing the learning rate at the end of each epoch.\n",
    "\n",
    "class PrintLR(Callback):\n",
    "    def on_epoch_end(self, epoch, logs=None):\n",
    "        print('\\nLearning rate for epoch {} is {}'.format(\n",
    "            epoch + 1, model.optimizer.lr.numpy()))\n"
   ],
   "outputs": [],
   "metadata": {
    "execution": {
     "iopub.execute_input": "2021-08-31T01:33:14.779398Z",
     "iopub.status.busy": "2021-08-31T01:33:14.778556Z",
     "iopub.status.idle": "2021-08-31T01:33:14.781075Z",
     "shell.execute_reply": "2021-08-31T01:33:14.780664Z",
     "shell.execute_reply.started": "2021-08-31T00:36:06.898205Z"
    },
    "id": "fU75pMkijpbU",
    "papermill": {
     "duration": 0.072926,
     "end_time": "2021-08-31T01:33:14.781201",
     "exception": false,
     "start_time": "2021-08-31T01:33:14.708275",
     "status": "completed"
    },
    "tags": []
   }
  },
  {
   "cell_type": "markdown",
   "source": [
    "### Put all the callbacks together"
   ],
   "metadata": {
    "id": "ihIGxpSsjpbV",
    "papermill": {
     "duration": 0.066089,
     "end_time": "2021-08-31T01:33:14.913277",
     "exception": false,
     "start_time": "2021-08-31T01:33:14.847188",
     "status": "completed"
    },
    "tags": []
   }
  },
  {
   "cell_type": "code",
   "execution_count": 32,
   "source": [
    "# put all callbacks as list\n",
    "callbacks = [\n",
    "    early_stopping,\n",
    "    model_checkpoint_callback,\n",
    "    LearningRateScheduler(scheduler),\n",
    "    PrintLR(),\n",
    "]\n"
   ],
   "outputs": [],
   "metadata": {
    "execution": {
     "iopub.execute_input": "2021-08-31T01:33:15.050050Z",
     "iopub.status.busy": "2021-08-31T01:33:15.049230Z",
     "iopub.status.idle": "2021-08-31T01:33:15.051902Z",
     "shell.execute_reply": "2021-08-31T01:33:15.051507Z",
     "shell.execute_reply.started": "2021-08-31T00:36:06.910790Z"
    },
    "id": "Ccxk6QYGjpbV",
    "papermill": {
     "duration": 0.07297,
     "end_time": "2021-08-31T01:33:15.052013",
     "exception": false,
     "start_time": "2021-08-31T01:33:14.979043",
     "status": "completed"
    },
    "tags": []
   }
  },
  {
   "cell_type": "markdown",
   "source": [
    "### Estimate class weights for unbalanced datasets\n",
    "\n",
    "Train a model with class weights\n",
    "\n",
    "Now try re-training and evaluating the model with class weights to see how that affects the predictions.\n",
    "\n",
    "**Note**: Using class_weights changes the range of the loss. This may affect the stability of the training depending on the optimizer. Optimizers. The optimizer used here, tf.keras.optimizers.Adam, is unaffected by the scaling change. Also note that because of the weighting, the total losses are not comparable between the two models."
   ],
   "metadata": {
    "id": "GRJHG_HCjpbV",
    "papermill": {
     "duration": 0.065864,
     "end_time": "2021-08-31T01:33:15.184454",
     "exception": false,
     "start_time": "2021-08-31T01:33:15.118590",
     "status": "completed"
    },
    "tags": []
   }
  },
  {
   "cell_type": "code",
   "execution_count": 33,
   "source": [
    "# Estimate class weights for unbalanced datasets\n",
    "weights = compute_class_weight(\n",
    "    'balanced',\n",
    "    np.unique(train_data.classes),\n",
    "    train_data.classes)\n",
    "\n",
    "class_weight = dict(zip(np.unique(train_data.classes), weights))\n",
    "\n",
    "print(class_weight)\n"
   ],
   "outputs": [
    {
     "output_type": "stream",
     "name": "stdout",
     "text": [
      "{0: 1.939214232765011, 1: 0.6737058975019315}\n"
     ]
    }
   ],
   "metadata": {
    "execution": {
     "iopub.execute_input": "2021-08-31T01:33:15.321551Z",
     "iopub.status.busy": "2021-08-31T01:33:15.320796Z",
     "iopub.status.idle": "2021-08-31T01:33:15.328100Z",
     "shell.execute_reply": "2021-08-31T01:33:15.327476Z",
     "shell.execute_reply.started": "2021-08-31T00:36:06.920026Z"
    },
    "id": "V9kg4tXUjpbV",
    "outputId": "41879ed3-ed39-4d26-bc10-8f6cfeab6927",
    "papermill": {
     "duration": 0.07778,
     "end_time": "2021-08-31T01:33:15.328259",
     "exception": false,
     "start_time": "2021-08-31T01:33:15.250479",
     "status": "completed"
    },
    "tags": []
   }
  },
  {
   "cell_type": "markdown",
   "source": [
    "The weight for class 0 (Normal) is a lot higher than the weight for class 1 (Pneumonia). Because there are less normal images, each normal image will be weighted more to balance the data as the CNN works best when the training data is balanced.\n"
   ],
   "metadata": {
    "id": "4pBjQOZjjpbV",
    "papermill": {
     "duration": 0.071338,
     "end_time": "2021-08-31T01:33:15.466499",
     "exception": false,
     "start_time": "2021-08-31T01:33:15.395161",
     "status": "completed"
    },
    "tags": []
   }
  },
  {
   "cell_type": "markdown",
   "source": [
    "# Train the model\n",
    "\n",
    "Train the model for 20 epochs using the training and validation data.\n",
    "\n",
    "note:  The validation set is used during the model fitting to evaluate the loss and any metrics, however the model is not fit with this data."
   ],
   "metadata": {
    "id": "2gIQxG4xjpbV",
    "papermill": {
     "duration": 0.066277,
     "end_time": "2021-08-31T01:33:15.599147",
     "exception": false,
     "start_time": "2021-08-31T01:33:15.532870",
     "status": "completed"
    },
    "tags": []
   }
  },
  {
   "cell_type": "code",
   "execution_count": 34,
   "source": [
    "# build model and train it\n",
    "print(\"[INFO] Training head model...\")\n",
    "start = datetime.now()\n",
    "\n",
    "# train model\n",
    "model_hist = model.fit(\n",
    "    train_data,\n",
    "    validation_data=test_data,\n",
    "    validation_steps=val_steps,\n",
    "    epochs=epochs,\n",
    "    steps_per_epoch=steps_per_epoch,\n",
    "    class_weight=class_weight,\n",
    "    callbacks=callbacks,\n",
    "    verbose=1,\n",
    ")\n",
    "\n",
    "# get the training time\n",
    "training_time = datetime.now() - start\n",
    "print(\"Training completed in time: \", training_time)\n"
   ],
   "outputs": [
    {
     "output_type": "stream",
     "name": "stdout",
     "text": [
      "[INFO] Training head model...\n",
      "Epoch 1/20\n",
      "164/164 [==============================] - 157s 945ms/step - loss: 0.4521 - accuracy: 0.7472 - auc: 0.8749 - prc: 0.9484 - val_loss: 0.4817 - val_accuracy: 0.8686 - val_auc: 0.9521 - val_prc: 0.9676\n",
      "\n",
      "Epoch 00001: saving model to output/checkpoint_dir/tuned_wts_model.hdf5\n",
      "\n",
      "Learning rate for epoch 1 is 9.999999747378752e-05\n",
      "Epoch 2/20\n",
      "164/164 [==============================] - 120s 734ms/step - loss: 0.2831 - accuracy: 0.8667 - auc: 0.9550 - prc: 0.9838 - val_loss: 0.3663 - val_accuracy: 0.8878 - val_auc: 0.9565 - val_prc: 0.9717\n",
      "\n",
      "Epoch 00002: saving model to output/checkpoint_dir/tuned_wts_model.hdf5\n",
      "\n",
      "Learning rate for epoch 2 is 9.999999747378752e-05\n",
      "Epoch 3/20\n",
      "164/164 [==============================] - 122s 743ms/step - loss: 0.2127 - accuracy: 0.9128 - auc: 0.9740 - prc: 0.9908 - val_loss: 0.2767 - val_accuracy: 0.9054 - val_auc: 0.9648 - val_prc: 0.9770\n",
      "\n",
      "Epoch 00003: saving model to output/checkpoint_dir/tuned_wts_model.hdf5\n",
      "\n",
      "Learning rate for epoch 3 is 9.999999747378752e-05\n",
      "Epoch 4/20\n",
      "164/164 [==============================] - 120s 735ms/step - loss: 0.1966 - accuracy: 0.9202 - auc: 0.9765 - prc: 0.9922 - val_loss: 0.2333 - val_accuracy: 0.9103 - val_auc: 0.9731 - val_prc: 0.9831\n",
      "\n",
      "Epoch 00004: saving model to output/checkpoint_dir/tuned_wts_model.hdf5\n",
      "\n",
      "Learning rate for epoch 4 is 9.999999747378752e-05\n",
      "Epoch 5/20\n",
      "164/164 [==============================] - 120s 729ms/step - loss: 0.2045 - accuracy: 0.9170 - auc: 0.9742 - prc: 0.9911 - val_loss: 0.2282 - val_accuracy: 0.9119 - val_auc: 0.9743 - val_prc: 0.9840\n",
      "\n",
      "Epoch 00005: saving model to output/checkpoint_dir/tuned_wts_model.hdf5\n",
      "\n",
      "Learning rate for epoch 5 is 9.999999747378752e-05\n",
      "Epoch 6/20\n",
      "164/164 [==============================] - 121s 739ms/step - loss: 0.1717 - accuracy: 0.9293 - auc: 0.9821 - prc: 0.9933 - val_loss: 0.2655 - val_accuracy: 0.8990 - val_auc: 0.9742 - val_prc: 0.9839\n",
      "\n",
      "Epoch 00006: saving model to output/checkpoint_dir/tuned_wts_model.hdf5\n",
      "\n",
      "Learning rate for epoch 6 is 9.048373613040894e-05\n",
      "Epoch 7/20\n",
      "164/164 [==============================] - 121s 735ms/step - loss: 0.1833 - accuracy: 0.9255 - auc: 0.9798 - prc: 0.9924 - val_loss: 0.1971 - val_accuracy: 0.9231 - val_auc: 0.9783 - val_prc: 0.9865\n",
      "\n",
      "Epoch 00007: saving model to output/checkpoint_dir/tuned_wts_model.hdf5\n",
      "\n",
      "Learning rate for epoch 7 is 8.187306229956448e-05\n",
      "Epoch 8/20\n",
      "164/164 [==============================] - 120s 732ms/step - loss: 0.1714 - accuracy: 0.9347 - auc: 0.9816 - prc: 0.9936 - val_loss: 0.2462 - val_accuracy: 0.9103 - val_auc: 0.9761 - val_prc: 0.9852\n",
      "\n",
      "Epoch 00008: saving model to output/checkpoint_dir/tuned_wts_model.hdf5\n",
      "\n",
      "Learning rate for epoch 8 is 7.408180681522936e-05\n",
      "Epoch 9/20\n",
      "164/164 [==============================] - 122s 743ms/step - loss: 0.1663 - accuracy: 0.9349 - auc: 0.9822 - prc: 0.9939 - val_loss: 0.2340 - val_accuracy: 0.9087 - val_auc: 0.9768 - val_prc: 0.9857\n",
      "\n",
      "Epoch 00009: saving model to output/checkpoint_dir/tuned_wts_model.hdf5\n",
      "\n",
      "Learning rate for epoch 9 is 6.703198596369475e-05\n",
      "Epoch 10/20\n",
      "164/164 [==============================] - 122s 744ms/step - loss: 0.1611 - accuracy: 0.9394 - auc: 0.9840 - prc: 0.9944 - val_loss: 0.2141 - val_accuracy: 0.9247 - val_auc: 0.9768 - val_prc: 0.9856\n",
      "\n",
      "Epoch 00010: saving model to output/checkpoint_dir/tuned_wts_model.hdf5\n",
      "\n",
      "Learning rate for epoch 10 is 6.065304478397593e-05\n",
      "Epoch 11/20\n",
      "164/164 [==============================] - 120s 733ms/step - loss: 0.1593 - accuracy: 0.9338 - auc: 0.9841 - prc: 0.9942 - val_loss: 0.2047 - val_accuracy: 0.9199 - val_auc: 0.9769 - val_prc: 0.9858\n",
      "\n",
      "Epoch 00011: saving model to output/checkpoint_dir/tuned_wts_model.hdf5\n",
      "\n",
      "Learning rate for epoch 11 is 5.488114038598724e-05\n",
      "Epoch 12/20\n",
      "164/164 [==============================] - 127s 773ms/step - loss: 0.1710 - accuracy: 0.9303 - auc: 0.9810 - prc: 0.9933 - val_loss: 0.2116 - val_accuracy: 0.9247 - val_auc: 0.9765 - val_prc: 0.9854\n",
      "Restoring model weights from the end of the best epoch.\n",
      "\n",
      "Epoch 00012: saving model to output/checkpoint_dir/tuned_wts_model.hdf5\n",
      "\n",
      "Learning rate for epoch 12 is 4.9658505304250866e-05\n",
      "Epoch 00012: early stopping\n",
      "Training completed in time:  0:24:54.954094\n"
     ]
    }
   ],
   "metadata": {
    "execution": {
     "iopub.execute_input": "2021-08-31T01:33:15.747272Z",
     "iopub.status.busy": "2021-08-31T01:33:15.746458Z",
     "iopub.status.idle": "2021-08-31T01:58:11.149252Z",
     "shell.execute_reply": "2021-08-31T01:58:11.146978Z",
     "shell.execute_reply.started": "2021-08-31T00:36:06.936172Z"
    },
    "id": "oPaHqK90jpbV",
    "outputId": "cafee751-4a2b-45fc-c7a7-3522b88abbae",
    "papermill": {
     "duration": 1495.476662,
     "end_time": "2021-08-31T01:58:11.149456",
     "exception": false,
     "start_time": "2021-08-31T01:33:15.672794",
     "status": "completed"
    },
    "tags": []
   }
  },
  {
   "cell_type": "markdown",
   "source": [
    "### Check our checkpoint and logs directory"
   ],
   "metadata": {
    "id": "wn367bRtjpbW",
    "papermill": {
     "duration": 0.60762,
     "end_time": "2021-08-31T01:58:12.391094",
     "exception": false,
     "start_time": "2021-08-31T01:58:11.783474",
     "status": "completed"
    },
    "tags": []
   }
  },
  {
   "cell_type": "code",
   "execution_count": 35,
   "source": [
    "# Check the checkpoint directory.\n",
    "!ls {checkpoint_dir}\n"
   ],
   "outputs": [
    {
     "output_type": "stream",
     "name": "stdout",
     "text": [
      "tuned_wts_model.hdf5\r\n"
     ]
    }
   ],
   "metadata": {
    "execution": {
     "iopub.execute_input": "2021-08-31T01:58:13.600855Z",
     "iopub.status.busy": "2021-08-31T01:58:13.581192Z",
     "iopub.status.idle": "2021-08-31T01:58:14.265257Z",
     "shell.execute_reply": "2021-08-31T01:58:14.264596Z",
     "shell.execute_reply.started": "2021-08-31T01:03:09.478188Z"
    },
    "id": "y8h_PD8zjpbW",
    "papermill": {
     "duration": 1.283051,
     "end_time": "2021-08-31T01:58:14.265413",
     "exception": false,
     "start_time": "2021-08-31T01:58:12.982362",
     "status": "completed"
    },
    "tags": []
   }
  },
  {
   "cell_type": "markdown",
   "source": [
    "### Save the entire model"
   ],
   "metadata": {
    "id": "WVAtdJH0jpbW",
    "papermill": {
     "duration": 0.591921,
     "end_time": "2021-08-31T01:58:15.450969",
     "exception": false,
     "start_time": "2021-08-31T01:58:14.859048",
     "status": "completed"
    },
    "tags": []
   }
  },
  {
   "cell_type": "code",
   "execution_count": 36,
   "source": [
    "# Save the entire model as a SavedModel.\n",
    "!mkdir -p output/saved_model\n",
    "\n",
    "# Save the entire model to a HDF5 file.\n",
    "# The '.h5' extension indicates that the model should be saved to HDF5.\n",
    "model.save('output/saved_model/full_tuned_model-01.h5')\n"
   ],
   "outputs": [],
   "metadata": {
    "execution": {
     "iopub.execute_input": "2021-08-31T01:58:16.669863Z",
     "iopub.status.busy": "2021-08-31T01:58:16.649277Z",
     "iopub.status.idle": "2021-08-31T01:58:17.666700Z",
     "shell.execute_reply": "2021-08-31T01:58:17.667928Z",
     "shell.execute_reply.started": "2021-08-31T01:03:10.297868Z"
    },
    "id": "UlrXQgvajpbW",
    "papermill": {
     "duration": 1.607525,
     "end_time": "2021-08-31T01:58:17.668143",
     "exception": false,
     "start_time": "2021-08-31T01:58:16.060618",
     "status": "completed"
    },
    "tags": []
   }
  },
  {
   "cell_type": "markdown",
   "source": [
    "### Check our training history values"
   ],
   "metadata": {
    "id": "uSMgaIg7jpbX",
    "papermill": {
     "duration": 0.581053,
     "end_time": "2021-08-31T01:58:18.919251",
     "exception": false,
     "start_time": "2021-08-31T01:58:18.338198",
     "status": "completed"
    },
    "tags": []
   }
  },
  {
   "cell_type": "code",
   "execution_count": 37,
   "source": [
    "# put on a dataframe our model history values\n",
    "hist_df = pd.DataFrame(data=model_hist.history)\n",
    "hist_df\n"
   ],
   "outputs": [
    {
     "output_type": "execute_result",
     "data": {
      "text/html": [
       "<div>\n",
       "<style scoped>\n",
       "    .dataframe tbody tr th:only-of-type {\n",
       "        vertical-align: middle;\n",
       "    }\n",
       "\n",
       "    .dataframe tbody tr th {\n",
       "        vertical-align: top;\n",
       "    }\n",
       "\n",
       "    .dataframe thead th {\n",
       "        text-align: right;\n",
       "    }\n",
       "</style>\n",
       "<table border=\"1\" class=\"dataframe\">\n",
       "  <thead>\n",
       "    <tr style=\"text-align: right;\">\n",
       "      <th></th>\n",
       "      <th>loss</th>\n",
       "      <th>accuracy</th>\n",
       "      <th>auc</th>\n",
       "      <th>prc</th>\n",
       "      <th>val_loss</th>\n",
       "      <th>val_accuracy</th>\n",
       "      <th>val_auc</th>\n",
       "      <th>val_prc</th>\n",
       "      <th>lr</th>\n",
       "    </tr>\n",
       "  </thead>\n",
       "  <tbody>\n",
       "    <tr>\n",
       "      <th>0</th>\n",
       "      <td>0.375598</td>\n",
       "      <td>0.804855</td>\n",
       "      <td>0.923550</td>\n",
       "      <td>0.971569</td>\n",
       "      <td>0.481679</td>\n",
       "      <td>0.868590</td>\n",
       "      <td>0.952082</td>\n",
       "      <td>0.967553</td>\n",
       "      <td>0.000100</td>\n",
       "    </tr>\n",
       "    <tr>\n",
       "      <th>1</th>\n",
       "      <td>0.257402</td>\n",
       "      <td>0.879014</td>\n",
       "      <td>0.962827</td>\n",
       "      <td>0.986827</td>\n",
       "      <td>0.366346</td>\n",
       "      <td>0.887821</td>\n",
       "      <td>0.956498</td>\n",
       "      <td>0.971742</td>\n",
       "      <td>0.000100</td>\n",
       "    </tr>\n",
       "    <tr>\n",
       "      <th>2</th>\n",
       "      <td>0.215305</td>\n",
       "      <td>0.909404</td>\n",
       "      <td>0.972434</td>\n",
       "      <td>0.990342</td>\n",
       "      <td>0.276740</td>\n",
       "      <td>0.905449</td>\n",
       "      <td>0.964793</td>\n",
       "      <td>0.977046</td>\n",
       "      <td>0.000100</td>\n",
       "    </tr>\n",
       "    <tr>\n",
       "      <th>3</th>\n",
       "      <td>0.197619</td>\n",
       "      <td>0.917049</td>\n",
       "      <td>0.975710</td>\n",
       "      <td>0.991583</td>\n",
       "      <td>0.233337</td>\n",
       "      <td>0.910256</td>\n",
       "      <td>0.973121</td>\n",
       "      <td>0.983150</td>\n",
       "      <td>0.000100</td>\n",
       "    </tr>\n",
       "    <tr>\n",
       "      <th>4</th>\n",
       "      <td>0.190271</td>\n",
       "      <td>0.920680</td>\n",
       "      <td>0.977309</td>\n",
       "      <td>0.991873</td>\n",
       "      <td>0.228153</td>\n",
       "      <td>0.911859</td>\n",
       "      <td>0.974326</td>\n",
       "      <td>0.984005</td>\n",
       "      <td>0.000100</td>\n",
       "    </tr>\n",
       "    <tr>\n",
       "      <th>5</th>\n",
       "      <td>0.179528</td>\n",
       "      <td>0.929281</td>\n",
       "      <td>0.979371</td>\n",
       "      <td>0.992281</td>\n",
       "      <td>0.265518</td>\n",
       "      <td>0.899038</td>\n",
       "      <td>0.974178</td>\n",
       "      <td>0.983914</td>\n",
       "      <td>0.000090</td>\n",
       "    </tr>\n",
       "    <tr>\n",
       "      <th>6</th>\n",
       "      <td>0.179108</td>\n",
       "      <td>0.925650</td>\n",
       "      <td>0.980209</td>\n",
       "      <td>0.993020</td>\n",
       "      <td>0.197069</td>\n",
       "      <td>0.923077</td>\n",
       "      <td>0.978337</td>\n",
       "      <td>0.986546</td>\n",
       "      <td>0.000082</td>\n",
       "    </tr>\n",
       "    <tr>\n",
       "      <th>7</th>\n",
       "      <td>0.176822</td>\n",
       "      <td>0.935015</td>\n",
       "      <td>0.979987</td>\n",
       "      <td>0.992971</td>\n",
       "      <td>0.246201</td>\n",
       "      <td>0.910256</td>\n",
       "      <td>0.976052</td>\n",
       "      <td>0.985198</td>\n",
       "      <td>0.000074</td>\n",
       "    </tr>\n",
       "    <tr>\n",
       "      <th>8</th>\n",
       "      <td>0.165241</td>\n",
       "      <td>0.935015</td>\n",
       "      <td>0.982423</td>\n",
       "      <td>0.993958</td>\n",
       "      <td>0.234019</td>\n",
       "      <td>0.908654</td>\n",
       "      <td>0.976835</td>\n",
       "      <td>0.985661</td>\n",
       "      <td>0.000067</td>\n",
       "    </tr>\n",
       "    <tr>\n",
       "      <th>9</th>\n",
       "      <td>0.159069</td>\n",
       "      <td>0.937309</td>\n",
       "      <td>0.984142</td>\n",
       "      <td>0.994582</td>\n",
       "      <td>0.214097</td>\n",
       "      <td>0.924679</td>\n",
       "      <td>0.976781</td>\n",
       "      <td>0.985648</td>\n",
       "      <td>0.000061</td>\n",
       "    </tr>\n",
       "    <tr>\n",
       "      <th>10</th>\n",
       "      <td>0.162925</td>\n",
       "      <td>0.933104</td>\n",
       "      <td>0.983220</td>\n",
       "      <td>0.994009</td>\n",
       "      <td>0.204666</td>\n",
       "      <td>0.919872</td>\n",
       "      <td>0.976934</td>\n",
       "      <td>0.985772</td>\n",
       "      <td>0.000055</td>\n",
       "    </tr>\n",
       "    <tr>\n",
       "      <th>11</th>\n",
       "      <td>0.160153</td>\n",
       "      <td>0.935589</td>\n",
       "      <td>0.983458</td>\n",
       "      <td>0.994053</td>\n",
       "      <td>0.211611</td>\n",
       "      <td>0.924679</td>\n",
       "      <td>0.976474</td>\n",
       "      <td>0.985352</td>\n",
       "      <td>0.000050</td>\n",
       "    </tr>\n",
       "  </tbody>\n",
       "</table>\n",
       "</div>"
      ],
      "text/plain": [
       "        loss  accuracy       auc       prc  val_loss  val_accuracy   val_auc  \\\n",
       "0   0.375598  0.804855  0.923550  0.971569  0.481679      0.868590  0.952082   \n",
       "1   0.257402  0.879014  0.962827  0.986827  0.366346      0.887821  0.956498   \n",
       "2   0.215305  0.909404  0.972434  0.990342  0.276740      0.905449  0.964793   \n",
       "3   0.197619  0.917049  0.975710  0.991583  0.233337      0.910256  0.973121   \n",
       "4   0.190271  0.920680  0.977309  0.991873  0.228153      0.911859  0.974326   \n",
       "5   0.179528  0.929281  0.979371  0.992281  0.265518      0.899038  0.974178   \n",
       "6   0.179108  0.925650  0.980209  0.993020  0.197069      0.923077  0.978337   \n",
       "7   0.176822  0.935015  0.979987  0.992971  0.246201      0.910256  0.976052   \n",
       "8   0.165241  0.935015  0.982423  0.993958  0.234019      0.908654  0.976835   \n",
       "9   0.159069  0.937309  0.984142  0.994582  0.214097      0.924679  0.976781   \n",
       "10  0.162925  0.933104  0.983220  0.994009  0.204666      0.919872  0.976934   \n",
       "11  0.160153  0.935589  0.983458  0.994053  0.211611      0.924679  0.976474   \n",
       "\n",
       "     val_prc        lr  \n",
       "0   0.967553  0.000100  \n",
       "1   0.971742  0.000100  \n",
       "2   0.977046  0.000100  \n",
       "3   0.983150  0.000100  \n",
       "4   0.984005  0.000100  \n",
       "5   0.983914  0.000090  \n",
       "6   0.986546  0.000082  \n",
       "7   0.985198  0.000074  \n",
       "8   0.985661  0.000067  \n",
       "9   0.985648  0.000061  \n",
       "10  0.985772  0.000055  \n",
       "11  0.985352  0.000050  "
      ]
     },
     "metadata": {},
     "execution_count": 37
    }
   ],
   "metadata": {
    "execution": {
     "iopub.execute_input": "2021-08-31T01:58:20.229048Z",
     "iopub.status.busy": "2021-08-31T01:58:20.227881Z",
     "iopub.status.idle": "2021-08-31T01:58:20.270665Z",
     "shell.execute_reply": "2021-08-31T01:58:20.271962Z",
     "shell.execute_reply.started": "2021-08-31T01:03:11.130341Z"
    },
    "id": "X-1z8Ig4jpbX",
    "papermill": {
     "duration": 0.76431,
     "end_time": "2021-08-31T01:58:20.272211",
     "exception": false,
     "start_time": "2021-08-31T01:58:19.507901",
     "status": "completed"
    },
    "tags": []
   }
  },
  {
   "cell_type": "markdown",
   "source": [
    "# Learning curves\n",
    "\n",
    "Let's take a look at the learning curves of the training and validation accuracy/loss when using the VGG16 base model as a fixed feature extractor."
   ],
   "metadata": {
    "id": "lOJ9qNALjpbX",
    "papermill": {
     "duration": 0.593515,
     "end_time": "2021-08-31T01:58:21.670397",
     "exception": false,
     "start_time": "2021-08-31T01:58:21.076882",
     "status": "completed"
    },
    "tags": []
   }
  },
  {
   "cell_type": "code",
   "execution_count": 38,
   "source": [
    "def plot_curves(epochs, hist, list_of_metrics):\n",
    "    plt.style.use('fivethirtyeight')\n",
    "    plt.figure(figsize=(10, 8))\n",
    "   \n",
    "    for n, metric in enumerate(list_of_metrics):\n",
    "        name = metric.replace(\"_\", \" \").capitalize()\n",
    "        plt.subplot(2, 1, n+1)\n",
    "         # plot metrics\n",
    "        plt.plot(model_hist.epoch, model_hist.history[metric], label='train')\n",
    "        plt.plot(model_hist.epoch, model_hist.history['val_' + metric], \n",
    "                 linestyle=\"--\", label='val')\n",
    "        \n",
    "        plt.xlabel('Epoch')\n",
    "        plt.ylabel(name)      \n",
    "        plt.legend()\n",
    "        \n",
    "    \n",
    "print(\"[INFO] Defined the plot_curve function.\")\n"
   ],
   "outputs": [
    {
     "output_type": "stream",
     "name": "stdout",
     "text": [
      "[INFO] Defined the plot_curve function.\n"
     ]
    }
   ],
   "metadata": {
    "execution": {
     "iopub.execute_input": "2021-08-31T01:58:22.913965Z",
     "iopub.status.busy": "2021-08-31T01:58:22.913377Z",
     "iopub.status.idle": "2021-08-31T01:58:22.918609Z",
     "shell.execute_reply": "2021-08-31T01:58:22.919122Z",
     "shell.execute_reply.started": "2021-08-31T01:03:11.165964Z"
    },
    "papermill": {
     "duration": 0.610804,
     "end_time": "2021-08-31T01:58:22.919312",
     "exception": false,
     "start_time": "2021-08-31T01:58:22.308508",
     "status": "completed"
    },
    "tags": []
   }
  },
  {
   "cell_type": "code",
   "execution_count": 39,
   "source": [
    "!mkdir -p output/plots\n",
    "\n",
    "# Plot a graph of the metric(s) vs. epochs.\n",
    "list_of_metrics_to_plot = ['accuracy', 'loss'] \n",
    "\n",
    "plot_curves(epochs, model_hist, list_of_metrics_to_plot)\n"
   ],
   "outputs": [
    {
     "output_type": "display_data",
     "data": {
      "image/png": "[encoded data removed]",
      "text/plain": [
       "<Figure size 720x576 with 2 Axes>"
      ]
     },
     "metadata": {}
    }
   ],
   "metadata": {
    "execution": {
     "iopub.execute_input": "2021-08-31T01:58:24.143856Z",
     "iopub.status.busy": "2021-08-31T01:58:24.140411Z",
     "iopub.status.idle": "2021-08-31T01:58:25.132957Z",
     "shell.execute_reply": "2021-08-31T01:58:25.132496Z",
     "shell.execute_reply.started": "2021-08-31T01:03:11.176688Z"
    },
    "papermill": {
     "duration": 1.618425,
     "end_time": "2021-08-31T01:58:25.133088",
     "exception": false,
     "start_time": "2021-08-31T01:58:23.514663",
     "status": "completed"
    },
    "tags": []
   }
  },
  {
   "cell_type": "code",
   "execution_count": 40,
   "source": [
    "# Plot a graph of the metric(s) vs. epochs.\n",
    "list_of_metrics_to_plot = ['auc', 'prc'] \n",
    "\n",
    "plot_curves(epochs, model_hist, list_of_metrics_to_plot)\n"
   ],
   "outputs": [
    {
     "output_type": "display_data",
     "data": {
      "image/png": "[encoded data removed]",
      "text/plain": [
       "<Figure size 720x576 with 2 Axes>"
      ]
     },
     "metadata": {}
    }
   ],
   "metadata": {
    "execution": {
     "iopub.execute_input": "2021-08-31T01:58:26.411569Z",
     "iopub.status.busy": "2021-08-31T01:58:26.388393Z",
     "iopub.status.idle": "2021-08-31T01:58:26.697949Z",
     "shell.execute_reply": "2021-08-31T01:58:26.697486Z",
     "shell.execute_reply.started": "2021-08-31T01:03:12.499324Z"
    },
    "papermill": {
     "duration": 0.969405,
     "end_time": "2021-08-31T01:58:26.698073",
     "exception": false,
     "start_time": "2021-08-31T01:58:25.728668",
     "status": "completed"
    },
    "tags": []
   }
  },
  {
   "cell_type": "markdown",
   "source": [
    "# Evaluating model on test data"
   ],
   "metadata": {
    "id": "2JyxYK7KjpbX",
    "papermill": {
     "duration": 0.585072,
     "end_time": "2021-08-31T01:58:27.866890",
     "exception": false,
     "start_time": "2021-08-31T01:58:27.281818",
     "status": "completed"
    },
    "tags": []
   }
  },
  {
   "cell_type": "code",
   "execution_count": 41,
   "source": [
    "# reset our data generators\n",
    "test_data.reset()\n",
    "                 \n",
    "# Evaluate the model on the test data using 'evaluate'\n",
    "print(\"[INFO] Evaluate on test data...\")\n",
    "test_loss, test_accuracy, auc, prc = model.evaluate(\n",
    "    test_data,\n",
    "    steps=val_steps,\n",
    ")\n",
    "\n",
    "# round test_loss to 3 decimals and test accuracy to 2\n",
    "test_loss = round(test_loss, 3)\n",
    "test_accuracy = round(test_accuracy*100, 2)\n",
    "auc = round(auc*100, 2)\n",
    "prc = round(prc*100, 2)\n",
    "\n",
    "# print model evaluation results\n",
    "print('test loss: ', test_loss)\n",
    "print('test acc:', test_accuracy)\n",
    "print('test auc:', auc)\n",
    "print('test prc: ', prc)\n"
   ],
   "outputs": [
    {
     "output_type": "stream",
     "name": "stdout",
     "text": [
      "[INFO] Evaluate on test data...\n",
      "20/20 [==============================] - 8s 375ms/step - loss: 0.1971 - accuracy: 0.9231 - auc: 0.9783 - prc: 0.9865\n",
      "test loss:  0.197\n",
      "test acc: 92.31\n",
      "test auc: 97.83\n",
      "test prc:  98.65\n"
     ]
    }
   ],
   "metadata": {
    "execution": {
     "iopub.execute_input": "2021-08-31T01:58:29.072770Z",
     "iopub.status.busy": "2021-08-31T01:58:29.071953Z",
     "iopub.status.idle": "2021-08-31T01:58:37.434257Z",
     "shell.execute_reply": "2021-08-31T01:58:37.434849Z",
     "shell.execute_reply.started": "2021-08-31T01:03:12.834522Z"
    },
    "id": "cSd1yp9bjpbX",
    "papermill": {
     "duration": 8.956371,
     "end_time": "2021-08-31T01:58:37.435047",
     "exception": false,
     "start_time": "2021-08-31T01:58:28.478676",
     "status": "completed"
    },
    "tags": []
   }
  },
  {
   "cell_type": "markdown",
   "source": [
    "Accuracy alone doesn't tell the full story when you're working with a class-imbalanced data set, like this one, where there is a significant disparity between the number of normal and pneumonia labels.\n",
    "\n",
    "Therefore, we'll look at two better metrics for evaluating class-imbalanced problems: precision and recall as well as sensitivity and specificity.\n"
   ],
   "metadata": {
    "papermill": {
     "duration": 0.585801,
     "end_time": "2021-08-31T01:58:38.622133",
     "exception": false,
     "start_time": "2021-08-31T01:58:38.036332",
     "status": "completed"
    },
    "tags": []
   }
  },
  {
   "cell_type": "markdown",
   "source": [
    "### Plot Probability Cut-off"
   ],
   "metadata": {
    "papermill": {
     "duration": 0.58618,
     "end_time": "2021-08-31T01:58:39.799680",
     "exception": false,
     "start_time": "2021-08-31T01:58:39.213500",
     "status": "completed"
    },
    "tags": []
   }
  },
  {
   "cell_type": "code",
   "execution_count": 42,
   "source": [
    "y_true = test_data.classes\n",
    "y_prob = model.predict(test_data, batch_size=batch_size, verbose=1)\n",
    "\n",
    "N = 100\n",
    "cut = np.linspace(0., 1., N)\n",
    "TPR = np.zeros(N)\n",
    "TNR = np.zeros(N)\n",
    "ACC = np.zeros(N)\n",
    "\n",
    "for i in range(len(cut)):\n",
    "    y_pred = np.round(y_prob - cut[i] + 0.5)\n",
    "    CM = confusion_matrix(y_true, y_pred)\n",
    "    TN = CM[0][0]\n",
    "    FN = CM[1][0]\n",
    "    TP = CM[1][1]\n",
    "    FP = CM[0][1]\n",
    "    TPR[i] = TP/(TP+FN)\n",
    "    TNR[i] = TN/(TN+FP)\n",
    "    ACC[i] = (TP+TN)/(TP+FP+FN+TN)\n",
    "\n",
    "plt.style.use('fivethirtyeight')\n",
    "plt.figure(figsize=(10, 8))  \n",
    "plt.plot(cut, TPR, c='red', label=\"Sensitivity\")\n",
    "plt.plot(cut, TNR, c='blue', label=\"Specificity\")\n",
    "plt.plot(cut, ACC, c='green', label=\"Accuracy\")\n",
    "plt.title(\"Accuracy, Sensitivity and Specificity\")\n",
    "plt.grid(True)\n",
    "# plt.ylim(0.7, 1)\n",
    "plt.xlabel(\"Probability cut\")\n",
    "plt.savefig('output/plots/acc_sensi_spec_curves', dpi=300)\n",
    "plt.legend()\n",
    "plt.show()\n"
   ],
   "outputs": [
    {
     "output_type": "stream",
     "name": "stdout",
     "text": [
      "20/20 [==============================] - 8s 397ms/step\n"
     ]
    },
    {
     "output_type": "display_data",
     "data": {
      "image/png": "[encoded data removed]",
      "text/plain": [
       "<Figure size 720x576 with 1 Axes>"
      ]
     },
     "metadata": {}
    }
   ],
   "metadata": {
    "execution": {
     "iopub.execute_input": "2021-08-31T01:58:41.036851Z",
     "iopub.status.busy": "2021-08-31T01:58:41.035252Z",
     "iopub.status.idle": "2021-08-31T01:58:50.923209Z",
     "shell.execute_reply": "2021-08-31T01:58:50.922355Z",
     "shell.execute_reply.started": "2021-08-31T01:03:20.993261Z"
    },
    "papermill": {
     "duration": 10.532812,
     "end_time": "2021-08-31T01:58:50.923351",
     "exception": false,
     "start_time": "2021-08-31T01:58:40.390539",
     "status": "completed"
    },
    "tags": []
   }
  },
  {
   "cell_type": "markdown",
   "source": [
    "The ideal test is one that has both high sensitivity and high specificity, but the value of a test depends on the situation.\n",
    "\n",
    "We need to determine a cut-off to minimize the cost of False positives and False negatives.   0.5 seems to be about alright.  Let's try it to see how our confusion matrix and classification report does."
   ],
   "metadata": {
    "papermill": {
     "duration": 0.59879,
     "end_time": "2021-08-31T01:58:52.119252",
     "exception": false,
     "start_time": "2021-08-31T01:58:51.520462",
     "status": "completed"
    },
    "tags": []
   }
  },
  {
   "cell_type": "markdown",
   "source": [
    "# Classification Report"
   ],
   "metadata": {
    "id": "182PoPZDjpbY",
    "papermill": {
     "duration": 0.89367,
     "end_time": "2021-08-31T01:58:53.627879",
     "exception": false,
     "start_time": "2021-08-31T01:58:52.734209",
     "status": "completed"
    },
    "tags": []
   }
  },
  {
   "cell_type": "code",
   "execution_count": 43,
   "source": [
    "# set threshold of 0.5 if value > 0.5 == 1 if not 0\n",
    "init_threshold = 0.5\n",
    "\n",
    "# real predictions not between 0 and 1\n",
    "Y_pred = model.predict(\n",
    "    test_data, \n",
    "    batch_size=batch_size,\n",
    "    verbose=1)\n",
    "\n",
    "# getting values for our threshold\n",
    "y_pred = np.where(Y_pred > init_threshold, 1, 0)\n",
    "# print(y_pred[:10])\n",
    "# print(y_pred_thresh[:10])\n"
   ],
   "outputs": [
    {
     "output_type": "stream",
     "name": "stdout",
     "text": [
      "20/20 [==============================] - 8s 373ms/step\n"
     ]
    }
   ],
   "metadata": {
    "execution": {
     "iopub.execute_input": "2021-08-31T01:58:54.840021Z",
     "iopub.status.busy": "2021-08-31T01:58:54.838598Z",
     "iopub.status.idle": "2021-08-31T01:59:03.012672Z",
     "shell.execute_reply": "2021-08-31T01:59:03.013072Z",
     "shell.execute_reply.started": "2021-08-31T01:03:30.244591Z"
    },
    "id": "EjguAe1Hjpba",
    "papermill": {
     "duration": 8.7859,
     "end_time": "2021-08-31T01:59:03.013272",
     "exception": false,
     "start_time": "2021-08-31T01:58:54.227372",
     "status": "completed"
    },
    "tags": []
   }
  },
  {
   "cell_type": "code",
   "execution_count": 44,
   "source": [
    "# print classification report\n",
    "classification_report = classification_report(\n",
    "    test_data.classes,\n",
    "    y_pred,\n",
    "    target_names=class_names,\n",
    ")\n",
    "\n",
    "print(classification_report)\n"
   ],
   "outputs": [
    {
     "output_type": "stream",
     "name": "stdout",
     "text": [
      "              precision    recall  f1-score   support\n",
      "\n",
      "      NORMAL       0.88      0.92      0.90       234\n",
      "   PNEUMONIA       0.95      0.92      0.94       390\n",
      "\n",
      "    accuracy                           0.92       624\n",
      "   macro avg       0.92      0.92      0.92       624\n",
      "weighted avg       0.92      0.92      0.92       624\n",
      "\n"
     ]
    }
   ],
   "metadata": {
    "execution": {
     "iopub.execute_input": "2021-08-31T01:59:04.377098Z",
     "iopub.status.busy": "2021-08-31T01:59:04.376061Z",
     "iopub.status.idle": "2021-08-31T01:59:04.389999Z",
     "shell.execute_reply": "2021-08-31T01:59:04.391095Z",
     "shell.execute_reply.started": "2021-08-31T01:03:38.400100Z"
    },
    "id": "pc1SaWZ4jpba",
    "papermill": {
     "duration": 0.776516,
     "end_time": "2021-08-31T01:59:04.391352",
     "exception": false,
     "start_time": "2021-08-31T01:59:03.614836",
     "status": "completed"
    },
    "tags": []
   }
  },
  {
   "cell_type": "markdown",
   "source": [
    "# Confusion Matrix\n",
    "\n",
    "As we already know:\n",
    "\n",
    "Let's make the following definitions:\n",
    "\n",
    "- \"Normal\" is class 0.\n",
    "- \"Pneumonia\" is class 1.\n",
    "\n",
    "A true positive is an outcome where the model correctly predicts the positive class. Similarly, a true negative is an outcome where the model correctly predicts the negative class.\n",
    "\n",
    "A false positive is an outcome where the model incorrectly predicts the positive class. And a false negative is an outcome where the model incorrectly predicts the negative class.\n"
   ],
   "metadata": {
    "id": "c1nUm74rjpba",
    "papermill": {
     "duration": 0.60728,
     "end_time": "2021-08-31T01:59:05.674964",
     "exception": false,
     "start_time": "2021-08-31T01:59:05.067684",
     "status": "completed"
    },
    "tags": []
   }
  },
  {
   "cell_type": "code",
   "execution_count": 45,
   "source": [
    "group_names = ['TN', 'FP', 'FN', 'TP']\n",
    "\n",
    "cm = confusion_matrix(test_data.classes, y_pred)\n",
    "\n",
    "\n",
    "def plot_matrix(cm):\n",
    "    plt.figure(figsize=(8, 6))\n",
    "    plt.title('Confusion matrix: \\n Normal vs Pneumonia')\n",
    "    heatmap = sns.heatmap(\n",
    "            cm,\n",
    "            cmap='OrRd',\n",
    "            linecolor='black',\n",
    "            linewidths=1,\n",
    "            annot=True,\n",
    "            cbar=False,\n",
    "            fmt='',\n",
    "            xticklabels=class_names,\n",
    "            yticklabels=class_names\n",
    "    )\n",
    "    plt.xlabel('Predicted Labels')\n",
    "    plt.ylabel('True Labels')\n",
    "    plt.savefig('output/plots/tuned_confusion_matrix', dpi=300)\n",
    "\n",
    "    return heatmap\n",
    "\n",
    "plot_matrix(cm)\n",
    "print('Normal cases correctly Detected - (True Negatives): ', cm[0][0])\n",
    "print('Pneumonia cases correctly Detected - (True Positives): ', cm[1][1])\n",
    "print('Normal cases incorrectly Detected - (False Positives): ', cm[0][1])\n",
    "print('Pneumonia cases incorrectly Detected -  (False Negatives): ', cm[1][0])\n",
    "\n",
    "print('Total Pneumonia cases: ', np.sum(cm[1]))\n",
    "print('Total Normal cases: ', np.sum(cm[0]))\n",
    "print('\\n')\n",
    "plt.show()\n"
   ],
   "outputs": [
    {
     "output_type": "stream",
     "name": "stdout",
     "text": [
      "Normal cases correctly Detected - (True Negatives):  216\n",
      "Pneumonia cases correctly Detected - (True Positives):  360\n",
      "Normal cases incorrectly Detected - (False Positives):  18\n",
      "Pneumonia cases incorrectly Detected -  (False Negatives):  30\n",
      "Total Pneumonia cases:  390\n",
      "Total Normal cases:  234\n",
      "\n",
      "\n"
     ]
    },
    {
     "output_type": "display_data",
     "data": {
      "image/png": "[encoded data removed]",
      "text/plain": [
       "<Figure size 576x432 with 1 Axes>"
      ]
     },
     "metadata": {}
    }
   ],
   "metadata": {
    "execution": {
     "iopub.execute_input": "2021-08-31T01:59:06.920325Z",
     "iopub.status.busy": "2021-08-31T01:59:06.919477Z",
     "iopub.status.idle": "2021-08-31T01:59:07.275350Z",
     "shell.execute_reply": "2021-08-31T01:59:07.274889Z",
     "shell.execute_reply.started": "2021-08-31T01:03:38.415347Z"
    },
    "id": "lrnyb8Ztjpba",
    "papermill": {
     "duration": 1.002213,
     "end_time": "2021-08-31T01:59:07.275478",
     "exception": false,
     "start_time": "2021-08-31T01:59:06.273265",
     "status": "completed"
    },
    "tags": []
   }
  },
  {
   "cell_type": "markdown",
   "source": [
    "# AUC, Precision, Recall, Sensitivity and Specificity scores\n",
    "\n",
    "Since we know that our data is imbalanced. Accuracy might not be the best model evaluation metric every time. It can convey the health of a model well only when all the classes have similar prevalence in the data. Thus, when the classes’ distribution is imbalanced, accuracy is not a good model evaluation metric. For this reason we will rely on Sensitivity and Specificity as well as AUC ROC Scores.\n",
    "\n",
    "**Precision** attempts to answer the following question:\n",
    "\n",
    "What proportion of positive identifications  was actually correct?\n",
    "\n",
    "As well as, **Recall** attempts to answer the following question:\n",
    "\n",
    "What proportion of actual positives was identified correctly?\n",
    "\n",
    "**Note**:  improving precision typically reduces recall and vice versa\n",
    "\n",
    "So depending on whether we want to detect all the positives (higher TPR) and willing to incur some error in terms of FPR, we need to decide the probability cut-off.\n"
   ],
   "metadata": {
    "id": "cz_3S9jwjpbb",
    "papermill": {
     "duration": 0.602886,
     "end_time": "2021-08-31T01:59:08.476506",
     "exception": false,
     "start_time": "2021-08-31T01:59:07.873620",
     "status": "completed"
    },
    "tags": []
   }
  },
  {
   "cell_type": "code",
   "execution_count": 46,
   "source": [
    "TN, FP, FN, TP = cm.ravel()\n",
    "\n",
    "accuracy = (TP + TN) / (TP + TN + FP + FN)\n",
    "precision = (TP) / (TP + FP)\n",
    "recall = (TP) / (TP + FN)\n",
    "sensitivity = (TP) / (TP + FN)\n",
    "specificity = (TN) / (TN + FP)\n",
    "prevalance = np.sum(test_data.classes) / len(test_data.classes)\n",
    "\n",
    "print(\"accuracy: {:.2%}\".format(accuracy))\n",
    "print(\"precision: {:.2%}\".format(precision))\n",
    "print(\"recall: {:.2%}\".format(recall))\n",
    "print(\"sensitivity: {:.2%}\".format(sensitivity))\n",
    "print(\"specificity: {:.2%}\".format(specificity))\n",
    "print(\"prevalance: {:.2%}\".format(prevalance))\n"
   ],
   "outputs": [
    {
     "output_type": "stream",
     "name": "stdout",
     "text": [
      "accuracy: 92.31%\n",
      "precision: 95.24%\n",
      "recall: 92.31%\n",
      "sensitivity: 92.31%\n",
      "specificity: 92.31%\n",
      "prevalance: 62.50%\n"
     ]
    }
   ],
   "metadata": {
    "execution": {
     "iopub.execute_input": "2021-08-31T01:59:09.692278Z",
     "iopub.status.busy": "2021-08-31T01:59:09.691560Z",
     "iopub.status.idle": "2021-08-31T01:59:09.695163Z",
     "shell.execute_reply": "2021-08-31T01:59:09.695807Z",
     "shell.execute_reply.started": "2021-08-31T01:03:38.787664Z"
    },
    "papermill": {
     "duration": 0.615208,
     "end_time": "2021-08-31T01:59:09.696088",
     "exception": false,
     "start_time": "2021-08-31T01:59:09.080880",
     "status": "completed"
    },
    "tags": []
   }
  },
  {
   "cell_type": "markdown",
   "source": [
    "We can determine that in 92.31% of the cases this model is predicting right for both cases.\n",
    "\n",
    "That is why we won't rely on accuracy as an overall metric for this model. Although, accuracy is high, we could measure the sensitivity and specificity as a better metric for a medical diagnostic.\n",
    "\n",
    "We have a prevalance of 62.50% because the proportion of normal cases is low.\n",
    "\n",
    "The **Sensitivity** value indicates that out of 100 detections of pneumonia cases our model will predict the class 1 just about right in 92.31% of the time.  That is, out of 100 pneumonia cases approximately 92 cases will be predicted right and 9 pneumonia cases will be wrongly predicted as normal cases.\n",
    "\n",
    "As well as, **Specificity** indicates that out of 100 normal cases detected approximataly 92 cases will be predicted right but it will missed 8 cases and will end up being predicted as pneumonia cases.  Not bad.\n",
    "\n",
    "Our Precision seems to very high 95.24%.\n"
   ],
   "metadata": {
    "papermill": {
     "duration": 0.606977,
     "end_time": "2021-08-31T01:59:10.904194",
     "exception": false,
     "start_time": "2021-08-31T01:59:10.297217",
     "status": "completed"
    },
    "tags": []
   }
  },
  {
   "cell_type": "markdown",
   "source": [
    "## Plot AUC Curve\n",
    "\n",
    "Now plot the ROC. This plot is useful because it shows, at a glance, the range of performance the model can reach just by tuning the output threshold."
   ],
   "metadata": {
    "papermill": {
     "duration": 0.612728,
     "end_time": "2021-08-31T01:59:12.138343",
     "exception": false,
     "start_time": "2021-08-31T01:59:11.525615",
     "status": "completed"
    },
    "tags": []
   }
  },
  {
   "cell_type": "code",
   "execution_count": 47,
   "source": [
    "# The roc_curve() function computed the TPR and FPR for various threshold values.\n",
    "\n",
    "y_pred = model.predict(test_data, batch_size=batch_size).ravel()\n",
    "fpr, tpr, thresholds = roc_curve(test_data.classes , y_pred)\n",
    "\n",
    "def plot_roc_curve(fpr, tpr): \n",
    "    plt.style.use('fivethirtyeight')\n",
    "    plt.figure(figsize=(10, 8))\n",
    "    plt.plot(fpr, tpr) \n",
    "    plt.title(\"AUC Curve\")\n",
    "    plt.xlabel('False Positive Rate') \n",
    "    plt.ylabel('True Positive Rate')\n",
    "    plt.savefig('output/plots/tuned_roc_curve-01', dpi=300)\n",
    "    plt.show() \n",
    "    \n",
    "    \n",
    "plot_roc_curve(fpr,tpr)\n",
    "auc_score = roc_auc_score(test_data.classes, y_pred)\n",
    "print('\\nroc auc score: {:.2%}'.format(auc_score))\n"
   ],
   "outputs": [
    {
     "output_type": "display_data",
     "data": {
      "image/png": "[encoded data removed]",
      "text/plain": [
       "<Figure size 720x576 with 1 Axes>"
      ]
     },
     "metadata": {}
    },
    {
     "output_type": "stream",
     "name": "stdout",
     "text": [
      "\n",
      "roc auc score: 97.83%\n"
     ]
    }
   ],
   "metadata": {
    "execution": {
     "iopub.execute_input": "2021-08-31T01:59:13.427327Z",
     "iopub.status.busy": "2021-08-31T01:59:13.425725Z",
     "iopub.status.idle": "2021-08-31T01:59:21.828827Z",
     "shell.execute_reply": "2021-08-31T01:59:21.830471Z",
     "shell.execute_reply.started": "2021-08-31T01:03:38.798155Z"
    },
    "papermill": {
     "duration": 9.044844,
     "end_time": "2021-08-31T01:59:21.830706",
     "exception": false,
     "start_time": "2021-08-31T01:59:12.785862",
     "status": "completed"
    },
    "tags": []
   }
  },
  {
   "cell_type": "markdown",
   "source": [
    "# Predictions"
   ],
   "metadata": {
    "id": "wmLIJOtHjpbb",
    "papermill": {
     "duration": 0.600816,
     "end_time": "2021-08-31T01:59:23.192677",
     "exception": false,
     "start_time": "2021-08-31T01:59:22.591861",
     "status": "completed"
    },
    "tags": []
   }
  },
  {
   "cell_type": "code",
   "execution_count": 48,
   "source": [
    "# image_path = 'test_images/BACTERIA.jpg'\n",
    "image_path = '../input/labeled-chest-xray-images/chest_xray/test/NORMAL/NORMAL-1283091-0001.jpeg'\n",
    "\n",
    "# load image in PIL format\n",
    "image_to_predict = load_img(image_path, target_size=(224,224))\n",
    "print('image type: ', type(image_to_predict))\n",
    "print('image size: ', image_to_predict.size)\n",
    "plt.imshow(image_to_predict)\n",
    "plt.show()\n",
    "\n",
    "# preprocess image\n",
    "test_image = img_to_array(image_to_predict)\n",
    "test_image = np.expand_dims(test_image, axis =0)\n",
    "test_image = test_image.astype('float32')\n",
    "test_image /=255\n",
    "\n",
    "# prediction\n",
    "output = model.predict(test_image)[0][0]\n",
    "print('prediction output:' , output)\n",
    "\n",
    "THRESHOLD = 0.5\n",
    "\n",
    "prediction = 1 if (output > THRESHOLD) else 0\n",
    "\n",
    "if prediction > THRESHOLD:\n",
    "    print(\"The X-RAY IMAGE belongs to  a PNEUMONIA person.\\n\")\n",
    "else:\n",
    "    print(\"The X-RAY IMAGE belongs to a NORMAL person.\\n\")\n",
    "\n",
    "CLASSES = ['NORMAL', 'PNEUMONIA']\n",
    "\n",
    "ClassPred = CLASSES[prediction]\n",
    "ClassProb = output\n",
    "\n",
    "print(\"Predicition\", ClassPred)\n",
    "print(\"Prob: {:.2%}\".format(ClassProb))\n"
   ],
   "outputs": [
    {
     "output_type": "stream",
     "name": "stdout",
     "text": [
      "image type:  <class 'PIL.Image.Image'>\n",
      "image size:  (224, 224)\n"
     ]
    },
    {
     "output_type": "display_data",
     "data": {
      "image/png": "[encoded data removed]",
      "text/plain": [
       "<Figure size 432x288 with 1 Axes>"
      ]
     },
     "metadata": {}
    },
    {
     "output_type": "stream",
     "name": "stdout",
     "text": [
      "prediction output: 0.091525614\n",
      "The X-RAY IMAGE belongs to a NORMAL person.\n",
      "\n",
      "Predicition NORMAL\n",
      "Prob: 9.15%\n"
     ]
    }
   ],
   "metadata": {
    "execution": {
     "iopub.execute_input": "2021-08-31T01:59:24.484826Z",
     "iopub.status.busy": "2021-08-31T01:59:24.483890Z",
     "iopub.status.idle": "2021-08-31T01:59:25.257504Z",
     "shell.execute_reply": "2021-08-31T01:59:25.258313Z",
     "shell.execute_reply.started": "2021-08-31T01:03:46.936684Z"
    },
    "id": "f_g-KdKjjpbc",
    "papermill": {
     "duration": 1.466314,
     "end_time": "2021-08-31T01:59:25.258519",
     "exception": false,
     "start_time": "2021-08-31T01:59:23.792205",
     "status": "completed"
    },
    "tags": []
   }
  },
  {
   "cell_type": "markdown",
   "source": [
    "# References \n",
    "\n",
    "[Transfer learning and fine-tuning - tensorflow tutorials](https://www.tensorflow.org/tutorials/images/transfer_learning)\n",
    "\n",
    "[Fine tuning with Keras and Deep Learning - tutorial](https://www.pyimagesearch.com/2019/06/03/fine-tuning-with-keras-and-deep-learning/)\n",
    "\n",
    "[writing your own callbacks - tensorflow tutorials](https://www.tensorflow.org/guide/keras/custom_callback#setup)\n",
    "\n",
    "[Data Augmentation in Medical Images](https://towardsdatascience.com/data-augmentation-in-medical-images-95c774e6eaae)\n",
    "\n",
    "[How to select Performance Metrics for Classification Models](https://medium.com/analytics-vidhya/how-to-select-performance-metrics-for-classification-models-c847fe6b1ea3)\n"
   ],
   "metadata": {
    "id": "Fpuy-0YBjpbc",
    "papermill": {
     "duration": 0.909962,
     "end_time": "2021-08-31T01:59:26.790548",
     "exception": false,
     "start_time": "2021-08-31T01:59:25.880586",
     "status": "completed"
    },
    "tags": []
   }
  }
 ],
 "metadata": {
  "kernelspec": {
   "display_name": "Python 3",
   "language": "python",
   "name": "python3"
  },
  "language_info": {
   "codemirror_mode": {
    "name": "ipython",
    "version": 3
   },
   "file_extension": ".py",
   "mimetype": "text/x-python",
   "name": "python",
   "nbconvert_exporter": "python",
   "pygments_lexer": "ipython3",
   "version": "3.7.10"
  },
  "papermill": {
   "default_parameters": {},
   "duration": 1619.686279,
   "end_time": "2021-08-31T01:59:29.555380",
   "environment_variables": {},
   "exception": null,
   "input_path": "__notebook__.ipynb",
   "output_path": "__notebook__.ipynb",
   "parameters": {},
   "start_time": "2021-08-31T01:32:29.869101",
   "version": "2.3.3"
  }
 },
 "nbformat": 4,
 "nbformat_minor": 5
}