{
  "nbformat": 4,
  "nbformat_minor": 0,
  "metadata": {
    "kernelspec": {
      "name": "python3",
      "display_name": "Python 3"
    },
    "colab": {
      "name": "transfer-learning-using-vgg16-base-model-v02.ipynb",
      "provenance": [],
      "collapsed_sections": []
    },
    "language_info": {
      "name": "python"
    }
  },
  "cells": [
    {
      "cell_type": "markdown",
      "metadata": {
        "id": "1Zv6fg6glzWA"
      },
      "source": [
        "## Pneumonia classificaton using Transfer Learning - Base Model\n",
        "\n",
        "This will be the **base model** using VGG16 pretrained model.\n",
        "\n",
        "The base model will not have any data augmentation.\n"
      ]
    },
    {
      "cell_type": "markdown",
      "metadata": {
        "id": "rPpXAldslzWC"
      },
      "source": [
        "## Import Packages"
      ]
    },
    {
      "cell_type": "code",
      "metadata": {
        "execution": {
          "iopub.execute_input": "2021-08-14T21:47:20.717989Z",
          "iopub.status.busy": "2021-08-14T21:47:20.717552Z",
          "iopub.status.idle": "2021-08-14T21:47:26.285946Z",
          "shell.execute_reply": "2021-08-14T21:47:26.284286Z",
          "shell.execute_reply.started": "2021-08-14T21:47:20.717907Z"
        },
        "id": "pPme4T49lzWD",
        "colab": {
          "base_uri": "https://localhost:8080/"
        },
        "outputId": "64a27631-8c91-4002-b1df-6eb1009bd0db"
      },
      "source": [
        "# import necessary packages\n",
        "import os\n",
        "import warnings\n",
        "import math\n",
        "import pandas as pd\n",
        "import numpy as np\n",
        "from numpy.random import seed\n",
        "from glob import glob\n",
        "\n",
        "# for plotting\n",
        "import matplotlib.pyplot as plt\n",
        "import seaborn as sns\n",
        "from datetime import datetime\n",
        "\n",
        "# for deep learning\n",
        "import tensorflow as tf\n",
        "from tensorflow.keras.models import (\n",
        "    save_model, \n",
        "    load_model\n",
        ")\n",
        "from tensorflow.keras.preprocessing.image import ImageDataGenerator\n",
        "from tensorflow.keras.utils import plot_model\n",
        "from tensorflow.keras.applications.vgg16 import VGG16\n",
        "from tensorflow.keras.optimizers import Adam\n",
        "from tensorflow.keras.metrics import Accuracy\n",
        "from tensorflow.keras.losses import binary_crossentropy\n",
        "from tensorflow.keras import Sequential\n",
        "from tensorflow.keras.layers import(\n",
        "    Dense,\n",
        "    GlobalAveragePooling2D,\n",
        ")\n",
        "# for metrics\n",
        "from sklearn.utils.class_weight import compute_class_weight\n",
        "from sklearn.metrics import (\n",
        "    classification_report, \n",
        "    confusion_matrix, \n",
        "    plot_confusion_matrix, \n",
        "    auc,\n",
        "    roc_auc_score,\n",
        "    roc_curve,\n",
        ")\n",
        "# ignore warnings\n",
        "warnings.filterwarnings(\"ignore\")\n",
        "print(\"[INFO] All required packages are ready...\")\n"
      ],
      "execution_count": 1,
      "outputs": [
        {
          "output_type": "stream",
          "text": [
            "[INFO] All required packages are ready...\n"
          ],
          "name": "stdout"
        }
      ]
    },
    {
      "cell_type": "markdown",
      "metadata": {
        "id": "wBH0jWlNlzWF"
      },
      "source": [
        "### Check for GPU access"
      ]
    },
    {
      "cell_type": "code",
      "metadata": {
        "id": "_KVLkIqIlzWF",
        "colab": {
          "base_uri": "https://localhost:8080/"
        },
        "outputId": "c9fb6bde-407e-4078-984a-5315c7310216"
      },
      "source": [
        "# check TF vesion\n",
        "print(\"Tensorflow version: \", tf.__version__)\n",
        "\n",
        "# check if GPU is available\n",
        "physical_devices = tf.config.list_physical_devices('GPU')\n",
        "print(\"Num GPUs:\", len(physical_devices))\n",
        "\n",
        "if len(physical_devices) == 0:\n",
        "    print(\"GPU device not found. Running on CPU.\")\n",
        "else:\n",
        "    print('Found GPU at: {}'.format(physical_devices))\n"
      ],
      "execution_count": null,
      "outputs": [
        {
          "output_type": "stream",
          "text": [
            "Tensorflow version:  2.6.0\n",
            "Num GPUs: 1\n",
            "Found GPU at: [PhysicalDevice(name='/physical_device:GPU:0', device_type='GPU')]\n"
          ],
          "name": "stdout"
        }
      ]
    },
    {
      "cell_type": "markdown",
      "metadata": {
        "id": "AUkIALhnlzWF"
      },
      "source": [
        "### Set reproducibility seed"
      ]
    },
    {
      "cell_type": "code",
      "metadata": {
        "execution": {
          "iopub.execute_input": "2021-08-14T21:47:26.288074Z",
          "iopub.status.busy": "2021-08-14T21:47:26.287743Z",
          "iopub.status.idle": "2021-08-14T21:47:26.298942Z",
          "shell.execute_reply": "2021-08-14T21:47:26.295943Z",
          "shell.execute_reply.started": "2021-08-14T21:47:26.288045Z"
        },
        "id": "9M0IqFPolzWG",
        "colab": {
          "base_uri": "https://localhost:8080/"
        },
        "outputId": "3d889bba-9066-4be0-d0b4-355bccf31d84"
      },
      "source": [
        "# Reproducibility\n",
        "def set_seed(seed=34):\n",
        "    np.random.seed(seed)\n",
        "    tf.random.set_seed(seed)\n",
        "    os.environ['PYTHONHASHSEED'] = str(seed)\n",
        "    os.environ['TF_DETERMINISTIC_OPS'] = '1'\n",
        "    \n",
        "\n",
        "print(\"[INFO] Reproducubilities are ready...\")\n",
        "set_seed(34)\n"
      ],
      "execution_count": null,
      "outputs": [
        {
          "output_type": "stream",
          "text": [
            "[INFO] Reproducubilities are ready...\n"
          ],
          "name": "stdout"
        }
      ]
    },
    {
      "cell_type": "markdown",
      "metadata": {
        "id": "St-vqBjjyUhv"
      },
      "source": [
        "### Mount google drive"
      ]
    },
    {
      "cell_type": "code",
      "metadata": {
        "colab": {
          "base_uri": "https://localhost:8080/"
        },
        "id": "fqWsHFk_yN9a",
        "outputId": "5916d76f-fcbc-465f-d203-65fb402fcb56"
      },
      "source": [
        "# mount google drive\n",
        "from google.colab import drive\n",
        "\n",
        "drive.mount('/content/drive')\n"
      ],
      "execution_count": null,
      "outputs": [
        {
          "output_type": "stream",
          "text": [
            "Drive already mounted at /content/drive; to attempt to forcibly remount, call drive.mount(\"/content/drive\", force_remount=True).\n"
          ],
          "name": "stdout"
        }
      ]
    },
    {
      "cell_type": "markdown",
      "metadata": {
        "id": "izxTZA9QlzWG"
      },
      "source": [
        "### Set working directory"
      ]
    },
    {
      "cell_type": "code",
      "metadata": {
        "execution": {
          "iopub.execute_input": "2021-08-14T21:47:26.533969Z",
          "iopub.status.busy": "2021-08-14T21:47:26.533222Z",
          "iopub.status.idle": "2021-08-14T21:47:26.542146Z",
          "shell.execute_reply": "2021-08-14T21:47:26.540807Z",
          "shell.execute_reply.started": "2021-08-14T21:47:26.533927Z"
        },
        "id": "-SmxdTvylzWG",
        "colab": {
          "base_uri": "https://localhost:8080/"
        },
        "outputId": "1ef63489-475c-4f73-8e6b-7184e8b7ae62"
      },
      "source": [
        "import sys\n",
        "\n",
        "# set working directory for google colab\n",
        "path = '/content/drive/MyDrive/Colab Notebooks'\n",
        "sys.path.insert(0, path)\n",
        "print(\"[INFO]  Working directory path is set up...\")\n"
      ],
      "execution_count": null,
      "outputs": [
        {
          "output_type": "stream",
          "text": [
            "[INFO]  Working directory path is set up...\n"
          ],
          "name": "stdout"
        }
      ]
    },
    {
      "cell_type": "markdown",
      "metadata": {
        "id": "3cbLQrOAlzWH"
      },
      "source": [
        "### Download dataset and unzipped it"
      ]
    },
    {
      "cell_type": "code",
      "metadata": {
        "id": "W3tdajkalzWH"
      },
      "source": [
        "# download data from kaggle api\n",
        "# !pip install -q kaggle\n",
        "# !mkdir ~/.kaggle\n",
        "# !cp kaggle.json ~/.kaggle/\n",
        "# !chmod 600 ~/.kaggle/kaggle.json\n",
        "\n",
        "# !kaggle datasets download -d \"tolgadincer/labeled-chest-xray-images\" -p \"~/workspace/ml-apps/input/\"\n"
      ],
      "execution_count": null,
      "outputs": []
    },
    {
      "cell_type": "code",
      "metadata": {
        "id": "54Blyz_tlzWH"
      },
      "source": [
        "from utils.unzip_file import unzip_file\n",
        "\n",
        "# path where our data resides\n",
        "file_path = '/content/drive/MyDrive/input/chest_xray.zip'\n",
        "\n",
        "unzip_file(file_path)\n",
        "print(\"[INFO]  Data has been unzipped...\")\n"
      ],
      "execution_count": null,
      "outputs": []
    },
    {
      "cell_type": "markdown",
      "metadata": {
        "id": "fntpT_U6lzWI"
      },
      "source": [
        "# Load Data"
      ]
    },
    {
      "cell_type": "code",
      "metadata": {
        "execution": {
          "iopub.execute_input": "2021-08-14T21:47:26.544869Z",
          "iopub.status.busy": "2021-08-14T21:47:26.544030Z",
          "iopub.status.idle": "2021-08-14T21:47:26.566793Z",
          "shell.execute_reply": "2021-08-14T21:47:26.565471Z",
          "shell.execute_reply.started": "2021-08-14T21:47:26.544822Z"
        },
        "id": "jdrKMkoglzWI",
        "colab": {
          "base_uri": "https://localhost:8080/"
        },
        "outputId": "d0a160f7-7739-4e09-bb7e-6cb294d1790c"
      },
      "source": [
        "# set image data directories\n",
        "MAIN_DIR = \"/content/\"\n",
        "TRAIN_DIR = os.path.join(MAIN_DIR, 'train')\n",
        "TEST_DIR = os.path.join(MAIN_DIR, 'test')\n",
        "\n",
        "# look into train folder for .jpg files for normal and pneumonia images\n",
        "NORMAL_TRAIN_IMAGES = os.path.join(MAIN_DIR, \"train/NORMAL/\")\n",
        "PNEUMONIA_TRAIN_IMAGES = os.path.join(MAIN_DIR, \"train/PNEUMONIA/\")\n",
        "\n",
        "# look into train folder for .jpg files for normal and pneumonia images\n",
        "NORMAL_TEST_IMAGES = os.path.join(MAIN_DIR, \"NORMAL\")\n",
        "PNEUMONIA_TES_IMAGES = os.path.join(MAIN_DIR, \"PNEUMONIA\")\n",
        "\n",
        "print(\"[INFO] Data directories are ready...\")\n"
      ],
      "execution_count": null,
      "outputs": [
        {
          "output_type": "stream",
          "text": [
            "[INFO] Data directories are ready...\n"
          ],
          "name": "stdout"
        }
      ]
    },
    {
      "cell_type": "code",
      "metadata": {
        "id": "VewLUNSylzWI",
        "colab": {
          "base_uri": "https://localhost:8080/"
        },
        "outputId": "c68b4d9c-aa43-40b8-f152-9ddfe96dcdad"
      },
      "source": [
        "# print some image file names\n",
        "train_normal_names = os.listdir(NORMAL_TRAIN_IMAGES)\n",
        "print(train_normal_names[:3])\n"
      ],
      "execution_count": null,
      "outputs": [
        {
          "output_type": "stream",
          "text": [
            "['NORMAL-8311712-0001.jpeg', 'NORMAL-5015362-0001.jpeg', 'NORMAL-5740995-0001.jpeg']\n"
          ],
          "name": "stdout"
        }
      ]
    },
    {
      "cell_type": "code",
      "metadata": {
        "execution": {
          "iopub.execute_input": "2021-08-14T21:47:26.761980Z",
          "iopub.status.busy": "2021-08-14T21:47:26.761496Z",
          "iopub.status.idle": "2021-08-14T21:47:26.772952Z",
          "shell.execute_reply": "2021-08-14T21:47:26.771774Z",
          "shell.execute_reply.started": "2021-08-14T21:47:26.761939Z"
        },
        "id": "_2rkVSIklzWJ",
        "colab": {
          "base_uri": "https://localhost:8080/"
        },
        "outputId": "9110bdab-63b3-4f0c-a59d-340e9c55bde9"
      },
      "source": [
        "# let's verify we have two classes\n",
        "classes = os.listdir(TRAIN_DIR)\n",
        "num_classes = len(classes)\n",
        "print('Number of classes: ', num_classes)\n"
      ],
      "execution_count": null,
      "outputs": [
        {
          "output_type": "stream",
          "text": [
            "Number of classes:  2\n"
          ],
          "name": "stdout"
        }
      ]
    },
    {
      "cell_type": "markdown",
      "metadata": {
        "id": "bxKOA8fzlzWJ"
      },
      "source": [
        "# Data Preprocessing"
      ]
    },
    {
      "cell_type": "markdown",
      "metadata": {
        "id": "m0Qd14SZlzWJ"
      },
      "source": [
        "### Set somve variables"
      ]
    },
    {
      "cell_type": "code",
      "metadata": {
        "execution": {
          "iopub.execute_input": "2021-08-14T21:47:26.781001Z",
          "iopub.status.busy": "2021-08-14T21:47:26.779072Z",
          "iopub.status.idle": "2021-08-14T21:47:26.809433Z",
          "shell.execute_reply": "2021-08-14T21:47:26.808283Z",
          "shell.execute_reply.started": "2021-08-14T21:47:26.780959Z"
        },
        "id": "Kk8puHRIlzWJ",
        "colab": {
          "base_uri": "https://localhost:8080/"
        },
        "outputId": "be04621c-fda7-4306-a5a9-e1339200ea3d"
      },
      "source": [
        "# set our image size\n",
        "image_size = (224, 224)\n",
        "\n",
        "# Initiate an input layer to pass our image size\n",
        "input_shape = image_size + (3, )\n",
        "\n",
        "# ste batch size\n",
        "batch_size = 32\n",
        "\n",
        "# initial number of epochs\n",
        "epochs = 10\n",
        "\n",
        "# set class labels\n",
        "class_names = ['NORMAL', 'PNEUMONIA']\n",
        "\n",
        "# set a seed for data generators\n",
        "data_seed = 1\n",
        "\n",
        "# Set variables for initial learning rate\n",
        "learning_rate = 1e-3\n",
        "\n",
        "# set initial optimizer\n",
        "opt = Adam(\n",
        "    learning_rate=learning_rate,\n",
        "    amsgrad=False,\n",
        "    name='Adam',\n",
        ")\n",
        "\n",
        "# set metrics and loss for model training\n",
        "metrics = ['accuracy']\n",
        "loss = ['binary_crossentropy']\n",
        "\n",
        "print(\"[INFO] Some useful variables have been declared...\")\n"
      ],
      "execution_count": null,
      "outputs": [
        {
          "output_type": "stream",
          "text": [
            "[INFO] Some useful variables have been declared...\n"
          ],
          "name": "stdout"
        }
      ]
    },
    {
      "cell_type": "markdown",
      "metadata": {
        "id": "7Yk--DwHlzWK"
      },
      "source": [
        "## Generate data batches for train/test images"
      ]
    },
    {
      "cell_type": "code",
      "metadata": {
        "execution": {
          "iopub.execute_input": "2021-08-14T21:47:26.817953Z",
          "iopub.status.busy": "2021-08-14T21:47:26.815231Z",
          "iopub.status.idle": "2021-08-14T21:47:26.834520Z",
          "shell.execute_reply": "2021-08-14T21:47:26.832397Z",
          "shell.execute_reply.started": "2021-08-14T21:47:26.817910Z"
        },
        "id": "HqlXPozclzWK",
        "colab": {
          "base_uri": "https://localhost:8080/"
        },
        "outputId": "4c7cdcca-3622-442c-8544-1602f30cf606"
      },
      "source": [
        "# Generate batches of tensor image data with real-time data augmentation\n",
        "# Takes the path to a directory & generates batches of augmented data\n",
        "# Training/Validation Split with ImageDataGenerator\n",
        "datagen = ImageDataGenerator(\n",
        "    rescale=1./255,\n",
        "    validation_split=0.1,\n",
        ")\n",
        "\n",
        "\n",
        "def get_train_generator(\n",
        "    dir_path, image_size, batch_size, class_names, seed, shuffle=True\n",
        "):\n",
        "    \"\"\"\n",
        "    Initiating data augment generator that rescale and resizes.\n",
        "    Scale all pixel intensities to the range [0, 1].\n",
        "    \"\"\"\n",
        "    # initialize the training generator\n",
        "    train_generator_ = datagen.flow_from_directory(\n",
        "        directory=dir_path,\n",
        "        target_size=image_size,\n",
        "        batch_size=batch_size,\n",
        "        class_mode=\"binary\",\n",
        "        subset=\"training\",\n",
        "        classes=class_names,\n",
        "        seed=seed,\n",
        "        shuffle=shuffle,\n",
        "    )\n",
        "\n",
        "    return train_generator_\n",
        "\n",
        "\n",
        "def get_val_generator(\n",
        "    dir_path, image_size, batch_size, class_names, seed, shuffle=False\n",
        "):\n",
        "    \"\"\"\n",
        "    initiating data augment generator that rescale and resizes.\n",
        "    Scale all pixel intensities to the range [0, 1].\n",
        "    \"\"\"\n",
        "    # initialize the training generator\n",
        "    val_generator_ = datagen.flow_from_directory(\n",
        "        directory=dir_path,\n",
        "        target_size=image_size,\n",
        "        batch_size=batch_size,\n",
        "        class_mode=\"binary\",\n",
        "        subset=\"validation\",\n",
        "        classes=class_names,\n",
        "        seed=seed,\n",
        "        shuffle=shuffle,\n",
        "    )\n",
        "\n",
        "    return val_generator_\n",
        "\n",
        "def get_test_generator(\n",
        "    dir_path, image_size, batch_size, class_names, seed, shuffle=False\n",
        "):\n",
        "    \"\"\"\n",
        "    initiating data augment generator that rescale and resizes.\n",
        "    Scale all pixel intensities to the range [0, 1].\n",
        "    \"\"\"\n",
        "    # initialize the training data augmentation object\n",
        "    datagen_test = ImageDataGenerator(\n",
        "        rescale=1./255,\n",
        "    )\n",
        "\n",
        "    # initialize the training generator\n",
        "    test_generator_ = datagen_test.flow_from_directory(\n",
        "        directory=dir_path,\n",
        "        target_size=image_size,\n",
        "        batch_size=batch_size,\n",
        "        class_mode=\"binary\",\n",
        "        classes=class_names,\n",
        "        seed=seed,\n",
        "        shuffle=shuffle,\n",
        "    )\n",
        "\n",
        "    return test_generator_\n",
        "\n",
        "print(\"[INFO] Pipeline for data batches has been generated...\")\n"
      ],
      "execution_count": null,
      "outputs": [
        {
          "output_type": "stream",
          "text": [
            "[INFO] Pipeline for data batches has been generated...\n"
          ],
          "name": "stdout"
        }
      ]
    },
    {
      "cell_type": "code",
      "metadata": {
        "execution": {
          "iopub.execute_input": "2021-08-14T21:47:26.837519Z",
          "iopub.status.busy": "2021-08-14T21:47:26.836324Z",
          "iopub.status.idle": "2021-08-14T21:47:32.348060Z",
          "shell.execute_reply": "2021-08-14T21:47:32.346865Z",
          "shell.execute_reply.started": "2021-08-14T21:47:26.837440Z"
        },
        "id": "IJ7XmPR6lzWL",
        "colab": {
          "base_uri": "https://localhost:8080/"
        },
        "outputId": "f5d953e9-c4ba-4979-929e-a05bb690ed41"
      },
      "source": [
        "print(\"[INFO] Getting information for data generators...\")\n",
        "\n",
        "# get training images\n",
        "train_data = get_train_generator(\n",
        "    TRAIN_DIR,\n",
        "    image_size,\n",
        "    batch_size,\n",
        "    class_names,\n",
        "    data_seed,\n",
        ")\n",
        "\n",
        "# get val images\n",
        "val_data = get_val_generator(\n",
        "    TRAIN_DIR,\n",
        "    image_size,\n",
        "    batch_size,\n",
        "    class_names,\n",
        "    data_seed,\n",
        ")\n",
        "\n",
        "# get test images\n",
        "test_data = get_test_generator(\n",
        "    TEST_DIR,\n",
        "    image_size,\n",
        "    batch_size,\n",
        "    class_names,\n",
        "    data_seed,\n",
        ")\n"
      ],
      "execution_count": null,
      "outputs": [
        {
          "output_type": "stream",
          "text": [
            "[INFO] Getting information for data generators...\n",
            "Found 4710 images belonging to 2 classes.\n",
            "Found 522 images belonging to 2 classes.\n",
            "Found 624 images belonging to 2 classes.\n"
          ],
          "name": "stdout"
        }
      ]
    },
    {
      "cell_type": "markdown",
      "metadata": {
        "id": "vsePIhMelzWL"
      },
      "source": [
        "### Check shape of image batches"
      ]
    },
    {
      "cell_type": "code",
      "metadata": {
        "execution": {
          "iopub.execute_input": "2021-08-14T21:47:32.350209Z",
          "iopub.status.busy": "2021-08-14T21:47:32.349736Z",
          "iopub.status.idle": "2021-08-14T21:47:33.021306Z",
          "shell.execute_reply": "2021-08-14T21:47:33.020099Z",
          "shell.execute_reply.started": "2021-08-14T21:47:32.350167Z"
        },
        "id": "9QFCKFLalzWL",
        "colab": {
          "base_uri": "https://localhost:8080/"
        },
        "outputId": "7ca10b3b-4b34-44e8-a29e-489ccd9c623b"
      },
      "source": [
        "# see the shape of the image batches\n",
        "for image_batch, labels_batch in train_data:\n",
        "    print('\\nImage Shape: ')\n",
        "    print(image_batch.shape)\n",
        "    print(labels_batch.shape)\n",
        "    break\n"
      ],
      "execution_count": null,
      "outputs": [
        {
          "output_type": "stream",
          "text": [
            "\n",
            "Image Shape: \n",
            "(32, 224, 224, 3)\n",
            "(32,)\n"
          ],
          "name": "stdout"
        }
      ]
    },
    {
      "cell_type": "markdown",
      "metadata": {
        "id": "icpV0rMalzWL"
      },
      "source": [
        "The image_batch is a tensor of the shape (32, 224, 224, 3).\n",
        "\n",
        "This is a batch of 32 images of shape 224x224x3 (the last dimension refers to color channels RGB). The label_batch is a tensor of the shape (32,), these are corresponding labels to the 32 images."
      ]
    },
    {
      "cell_type": "markdown",
      "metadata": {
        "id": "PzAt2yEJlzWM"
      },
      "source": [
        "# Modeling and Training"
      ]
    },
    {
      "cell_type": "markdown",
      "metadata": {
        "id": "6hR4aUbdlzWM"
      },
      "source": [
        "## Create the base model from the pre-trained convnets"
      ]
    },
    {
      "cell_type": "code",
      "metadata": {
        "execution": {
          "iopub.execute_input": "2021-08-14T21:47:33.023693Z",
          "iopub.status.busy": "2021-08-14T21:47:33.023005Z",
          "iopub.status.idle": "2021-08-14T21:47:36.420368Z",
          "shell.execute_reply": "2021-08-14T21:47:36.419273Z",
          "shell.execute_reply.started": "2021-08-14T21:47:33.023650Z"
        },
        "id": "SXmuhFAElzWM",
        "colab": {
          "base_uri": "https://localhost:8080/"
        },
        "outputId": "a45cc4bf-094d-45ac-fb38-5e85dfd54345"
      },
      "source": [
        "# Create the base model from the pre-trained model\n",
        "\n",
        "\n",
        "def get_model():\n",
        "    '''load the base model from the pre-trained model VGG16.\n",
        "       Load weights pre-trained on ImageNet.\n",
        "       Do not include the ImageNet classifier at the top.\n",
        "    '''\n",
        "    # load vgg16 pretrained model\n",
        "    pretrained_model = VGG16(\n",
        "        include_top=False,\n",
        "        weights='imagenet',\n",
        "        input_shape=input_shape,\n",
        "        classes=1000,\n",
        "        classifier_activation='softmax'\n",
        "    )\n",
        "\n",
        "    return pretrained_model\n",
        "\n",
        "# get pretraind model\n",
        "base_model = get_model()\n",
        "\n",
        "# base model architecture\n",
        "print(\"[INFO] Summary of the pretrained base model architecture.\\n\")\n",
        "base_model.summary()\n"
      ],
      "execution_count": null,
      "outputs": [
        {
          "output_type": "stream",
          "text": [
            "[INFO] Summary of the pretrained base model architecture.\n",
            "\n",
            "Model: \"vgg16\"\n",
            "_________________________________________________________________\n",
            "Layer (type)                 Output Shape              Param #   \n",
            "=================================================================\n",
            "input_1 (InputLayer)         [(None, 224, 224, 3)]     0         \n",
            "_________________________________________________________________\n",
            "block1_conv1 (Conv2D)        (None, 224, 224, 64)      1792      \n",
            "_________________________________________________________________\n",
            "block1_conv2 (Conv2D)        (None, 224, 224, 64)      36928     \n",
            "_________________________________________________________________\n",
            "block1_pool (MaxPooling2D)   (None, 112, 112, 64)      0         \n",
            "_________________________________________________________________\n",
            "block2_conv1 (Conv2D)        (None, 112, 112, 128)     73856     \n",
            "_________________________________________________________________\n",
            "block2_conv2 (Conv2D)        (None, 112, 112, 128)     147584    \n",
            "_________________________________________________________________\n",
            "block2_pool (MaxPooling2D)   (None, 56, 56, 128)       0         \n",
            "_________________________________________________________________\n",
            "block3_conv1 (Conv2D)        (None, 56, 56, 256)       295168    \n",
            "_________________________________________________________________\n",
            "block3_conv2 (Conv2D)        (None, 56, 56, 256)       590080    \n",
            "_________________________________________________________________\n",
            "block3_conv3 (Conv2D)        (None, 56, 56, 256)       590080    \n",
            "_________________________________________________________________\n",
            "block3_pool (MaxPooling2D)   (None, 28, 28, 256)       0         \n",
            "_________________________________________________________________\n",
            "block4_conv1 (Conv2D)        (None, 28, 28, 512)       1180160   \n",
            "_________________________________________________________________\n",
            "block4_conv2 (Conv2D)        (None, 28, 28, 512)       2359808   \n",
            "_________________________________________________________________\n",
            "block4_conv3 (Conv2D)        (None, 28, 28, 512)       2359808   \n",
            "_________________________________________________________________\n",
            "block4_pool (MaxPooling2D)   (None, 14, 14, 512)       0         \n",
            "_________________________________________________________________\n",
            "block5_conv1 (Conv2D)        (None, 14, 14, 512)       2359808   \n",
            "_________________________________________________________________\n",
            "block5_conv2 (Conv2D)        (None, 14, 14, 512)       2359808   \n",
            "_________________________________________________________________\n",
            "block5_conv3 (Conv2D)        (None, 14, 14, 512)       2359808   \n",
            "_________________________________________________________________\n",
            "block5_pool (MaxPooling2D)   (None, 7, 7, 512)         0         \n",
            "=================================================================\n",
            "Total params: 14,714,688\n",
            "Trainable params: 14,714,688\n",
            "Non-trainable params: 0\n",
            "_________________________________________________________________\n"
          ],
          "name": "stdout"
        }
      ]
    },
    {
      "cell_type": "code",
      "metadata": {
        "execution": {
          "iopub.execute_input": "2021-08-14T21:47:36.422330Z",
          "iopub.status.busy": "2021-08-14T21:47:36.421914Z",
          "iopub.status.idle": "2021-08-14T21:47:36.432399Z",
          "shell.execute_reply": "2021-08-14T21:47:36.430620Z",
          "shell.execute_reply.started": "2021-08-14T21:47:36.422286Z"
        },
        "id": "zOdl1ZoOlzWM",
        "colab": {
          "base_uri": "https://localhost:8080/"
        },
        "outputId": "4331e945-a7f7-49ba-b65c-94f8b95e3caf"
      },
      "source": [
        "# check available layers\n",
        "base_layers = len(base_model.layers)\n",
        "print(\"[INFO] There are a total of\", base_layers, \"available layers.\")\n"
      ],
      "execution_count": null,
      "outputs": [
        {
          "output_type": "stream",
          "text": [
            "[INFO] There are a total of 19 available layers.\n"
          ],
          "name": "stdout"
        }
      ]
    },
    {
      "cell_type": "markdown",
      "metadata": {
        "id": "sJXaNByFlzWM"
      },
      "source": [
        "## Feature extraction\n",
        "\n",
        "### Freeze the convolutional base"
      ]
    },
    {
      "cell_type": "code",
      "metadata": {
        "execution": {
          "iopub.execute_input": "2021-08-14T21:47:36.434245Z",
          "iopub.status.busy": "2021-08-14T21:47:36.433734Z",
          "iopub.status.idle": "2021-08-14T21:47:36.448871Z",
          "shell.execute_reply": "2021-08-14T21:47:36.447654Z",
          "shell.execute_reply.started": "2021-08-14T21:47:36.434191Z"
        },
        "id": "BCfCqmRUlzWM",
        "colab": {
          "base_uri": "https://localhost:8080/"
        },
        "outputId": "e0e3a66f-9d7f-415f-db6e-8961ac575a1d"
      },
      "source": [
        "# loop over all layers in the base model and freeze them so they will\n",
        "# *not* be updated during the first training process\n",
        "print(\"[INFO] Base model layers have been freeze...\")\n",
        "for layer in base_model.layers:\n",
        "    layer.trainable = False\n"
      ],
      "execution_count": null,
      "outputs": [
        {
          "output_type": "stream",
          "text": [
            "[INFO] Base model layers have been freeze...\n"
          ],
          "name": "stdout"
        }
      ]
    },
    {
      "cell_type": "code",
      "metadata": {
        "execution": {
          "iopub.execute_input": "2021-08-14T21:47:36.451150Z",
          "iopub.status.busy": "2021-08-14T21:47:36.450679Z",
          "iopub.status.idle": "2021-08-14T21:47:36.462522Z",
          "shell.execute_reply": "2021-08-14T21:47:36.461185Z",
          "shell.execute_reply.started": "2021-08-14T21:47:36.451106Z"
        },
        "id": "GgNRxBnTlzWN",
        "colab": {
          "base_uri": "https://localhost:8080/"
        },
        "outputId": "4a86118d-b147-4901-e53e-48e9bad490af"
      },
      "source": [
        "# how many trainable varibles we have\n",
        "train_var = len(base_model.trainable_variables)\n",
        "print(\"[INFO] There are\", train_var , \"trainable variables.\")\n"
      ],
      "execution_count": null,
      "outputs": [
        {
          "output_type": "stream",
          "text": [
            "[INFO] There are 0 trainable variables.\n"
          ],
          "name": "stdout"
        }
      ]
    },
    {
      "cell_type": "code",
      "metadata": {
        "execution": {
          "iopub.execute_input": "2021-08-14T21:47:36.465190Z",
          "iopub.status.busy": "2021-08-14T21:47:36.464708Z",
          "iopub.status.idle": "2021-08-14T21:47:36.485989Z",
          "shell.execute_reply": "2021-08-14T21:47:36.484949Z",
          "shell.execute_reply.started": "2021-08-14T21:47:36.465146Z"
        },
        "id": "levMCch5lzWN",
        "colab": {
          "base_uri": "https://localhost:8080/"
        },
        "outputId": "cc4214ec-4e1c-4c0d-e4ad-39851140e40d"
      },
      "source": [
        "# Let's confirm our layers are not trainable\n",
        "# Should be noted as False = Not trainable\n",
        "for (i, layer) in enumerate(base_model.layers):\n",
        "    print(str(i) + \" \" + layer.__class__.__name__, layer.trainable)\n"
      ],
      "execution_count": null,
      "outputs": [
        {
          "output_type": "stream",
          "text": [
            "0 InputLayer False\n",
            "1 Conv2D False\n",
            "2 Conv2D False\n",
            "3 MaxPooling2D False\n",
            "4 Conv2D False\n",
            "5 Conv2D False\n",
            "6 MaxPooling2D False\n",
            "7 Conv2D False\n",
            "8 Conv2D False\n",
            "9 Conv2D False\n",
            "10 MaxPooling2D False\n",
            "11 Conv2D False\n",
            "12 Conv2D False\n",
            "13 Conv2D False\n",
            "14 MaxPooling2D False\n",
            "15 Conv2D False\n",
            "16 Conv2D False\n",
            "17 Conv2D False\n",
            "18 MaxPooling2D False\n"
          ],
          "name": "stdout"
        }
      ]
    },
    {
      "cell_type": "markdown",
      "metadata": {
        "id": "5xuuIgfllzWN"
      },
      "source": [
        "## Add a classification head to the base model"
      ]
    },
    {
      "cell_type": "code",
      "metadata": {
        "execution": {
          "iopub.execute_input": "2021-08-14T21:47:36.487950Z",
          "iopub.status.busy": "2021-08-14T21:47:36.487511Z",
          "iopub.status.idle": "2021-08-14T21:47:44.873772Z",
          "shell.execute_reply": "2021-08-14T21:47:44.872468Z",
          "shell.execute_reply.started": "2021-08-14T21:47:36.487910Z"
        },
        "id": "f9g1L92TlzWN",
        "colab": {
          "base_uri": "https://localhost:8080/"
        },
        "outputId": "023f8e25-16af-4055-f942-4035aa7a596c"
      },
      "source": [
        "image_batch, label_batch = next(iter(train_data))\n",
        "feature_batch = base_model(image_batch)\n",
        "print(feature_batch.shape)\n"
      ],
      "execution_count": null,
      "outputs": [
        {
          "output_type": "stream",
          "text": [
            "(32, 7, 7, 512)\n"
          ],
          "name": "stdout"
        }
      ]
    },
    {
      "cell_type": "code",
      "metadata": {
        "execution": {
          "iopub.execute_input": "2021-08-14T21:47:44.876077Z",
          "iopub.status.busy": "2021-08-14T21:47:44.875609Z",
          "iopub.status.idle": "2021-08-14T21:47:44.896398Z",
          "shell.execute_reply": "2021-08-14T21:47:44.894630Z",
          "shell.execute_reply.started": "2021-08-14T21:47:44.875988Z"
        },
        "id": "8kj2HZVHlzWO",
        "colab": {
          "base_uri": "https://localhost:8080/"
        },
        "outputId": "6f3f4724-36e8-422f-9c7b-e4b5d6dd921b"
      },
      "source": [
        "global_average_layer = tf.keras.layers.GlobalAveragePooling2D()\n",
        "feature_batch_average = global_average_layer(feature_batch)\n",
        "print(feature_batch_average.shape)\n"
      ],
      "execution_count": null,
      "outputs": [
        {
          "output_type": "stream",
          "text": [
            "(32, 512)\n"
          ],
          "name": "stdout"
        }
      ]
    },
    {
      "cell_type": "markdown",
      "metadata": {
        "id": "tyJzLgAElzWO"
      },
      "source": [
        "## Construct a top model and compile the model"
      ]
    },
    {
      "cell_type": "code",
      "metadata": {
        "execution": {
          "iopub.execute_input": "2021-08-14T21:47:44.899365Z",
          "iopub.status.busy": "2021-08-14T21:47:44.898611Z",
          "iopub.status.idle": "2021-08-14T21:47:45.008403Z",
          "shell.execute_reply": "2021-08-14T21:47:45.007373Z",
          "shell.execute_reply.started": "2021-08-14T21:47:44.899307Z"
        },
        "id": "kkULaHNclzWO",
        "colab": {
          "base_uri": "https://localhost:8080/"
        },
        "outputId": "24a261ea-20a8-4f28-92e1-208ae543f2de"
      },
      "source": [
        "# Construct a new model on top of base model\n",
        "\n",
        "\n",
        "def head_model():\n",
        "    '''\n",
        "    Instantiate a Sequential model without an input shape\n",
        "    construct the head model that will be placed on top of the\n",
        "    the pretrained base model\n",
        "    '''\n",
        "    model = Sequential(\n",
        "        [\n",
        "            base_model,\n",
        "            GlobalAveragePooling2D(),\n",
        "            Dense(1, activation='sigmoid', name='prediction_layer'),\n",
        "        ],\n",
        "        name='head_model'\n",
        "    )\n",
        "\n",
        "    model.compile(\n",
        "        optimizer=opt,\n",
        "        loss=loss,\n",
        "        metrics=metrics,\n",
        "    )\n",
        "\n",
        "    return model\n",
        "\n",
        "\n",
        "# place the head FC model on top of the base model (this will become\n",
        "# the actual model we will train)\n",
        "model = head_model()\n",
        "print(\"[INFO] Getting Head model...\")\n",
        "print(\"[INFO] Classification head model has been compiled ...\")\n",
        "model.summary()\n"
      ],
      "execution_count": null,
      "outputs": [
        {
          "output_type": "stream",
          "text": [
            "[INFO] Getting Head model...\n",
            "[INFO] Classification head model has been compiled ...\n",
            "Model: \"head_model\"\n",
            "_________________________________________________________________\n",
            "Layer (type)                 Output Shape              Param #   \n",
            "=================================================================\n",
            "vgg16 (Functional)           (None, 7, 7, 512)         14714688  \n",
            "_________________________________________________________________\n",
            "global_average_pooling2d_1 ( (None, 512)               0         \n",
            "_________________________________________________________________\n",
            "prediction_layer (Dense)     (None, 1)                 513       \n",
            "=================================================================\n",
            "Total params: 14,715,201\n",
            "Trainable params: 513\n",
            "Non-trainable params: 14,714,688\n",
            "_________________________________________________________________\n"
          ],
          "name": "stdout"
        }
      ]
    },
    {
      "cell_type": "code",
      "metadata": {
        "execution": {
          "iopub.execute_input": "2021-08-14T21:47:45.012332Z",
          "iopub.status.busy": "2021-08-14T21:47:45.012048Z",
          "iopub.status.idle": "2021-08-14T21:47:45.018665Z",
          "shell.execute_reply": "2021-08-14T21:47:45.017229Z",
          "shell.execute_reply.started": "2021-08-14T21:47:45.012303Z"
        },
        "id": "R8HUrn2LlzWO",
        "colab": {
          "base_uri": "https://localhost:8080/"
        },
        "outputId": "0d18b287-f77c-403f-faa0-86cf5c09aa4c"
      },
      "source": [
        "# how many trainable varibles we have\n",
        "train_var = len(model.trainable_variables)\n",
        "print(\"[INFO] There are\", train_var , \"trainable variables.\")\n"
      ],
      "execution_count": null,
      "outputs": [
        {
          "output_type": "stream",
          "text": [
            "[INFO] There are 2 trainable variables.\n"
          ],
          "name": "stdout"
        }
      ]
    },
    {
      "cell_type": "code",
      "metadata": {
        "execution": {
          "iopub.execute_input": "2021-08-14T21:47:45.020949Z",
          "iopub.status.busy": "2021-08-14T21:47:45.020372Z",
          "iopub.status.idle": "2021-08-14T21:47:45.554350Z",
          "shell.execute_reply": "2021-08-14T21:47:45.552966Z",
          "shell.execute_reply.started": "2021-08-14T21:47:45.020872Z"
        },
        "id": "5jVdF_KalzWO"
      },
      "source": [
        "# show and save our base model architecture\n",
        "!mkdir -p output/model_architecture\n",
        "\n",
        "head_model_arch = plot_model(\n",
        "    model,\n",
        "    to_file=\"output/model_architecture/base_model_architecture-01.png\",\n",
        "    show_shapes=True,\n",
        "    expand_nested=True,\n",
        ")\n"
      ],
      "execution_count": null,
      "outputs": []
    },
    {
      "cell_type": "markdown",
      "metadata": {
        "id": "WVzFW088lzWO"
      },
      "source": [
        "# Train the model"
      ]
    },
    {
      "cell_type": "code",
      "metadata": {
        "execution": {
          "iopub.execute_input": "2021-08-14T21:47:45.572098Z",
          "iopub.status.busy": "2021-08-14T21:47:45.571609Z",
          "iopub.status.idle": "2021-08-14T22:01:24.105335Z",
          "shell.execute_reply": "2021-08-14T22:01:24.102954Z",
          "shell.execute_reply.started": "2021-08-14T21:47:45.572059Z"
        },
        "id": "1GFqXeHilzWP",
        "colab": {
          "base_uri": "https://localhost:8080/"
        },
        "outputId": "13645bac-8b07-4590-d278-229e9967ff78"
      },
      "source": [
        "# build model and train it\n",
        "print(\"[INFO] Training head model...\")\n",
        "start = datetime.now()\n",
        "\n",
        "# train model\n",
        "head_hist = model.fit(\n",
        "    train_data,\n",
        "    validation_data=val_data,\n",
        "    epochs=epochs,\n",
        "    verbose=1,\n",
        ")\n",
        "\n",
        "# get the training time\n",
        "training_time = datetime.now() - start\n",
        "print(\"Training completed in time: \", training_time)\n"
      ],
      "execution_count": null,
      "outputs": [
        {
          "output_type": "stream",
          "text": [
            "[INFO] Training head model...\n",
            "Epoch 1/10\n",
            "148/148 [==============================] - 61s 403ms/step - loss: 0.5034 - accuracy: 0.7425 - val_loss: 0.4361 - val_accuracy: 0.7586\n",
            "Epoch 2/10\n",
            "148/148 [==============================] - 57s 383ms/step - loss: 0.3966 - accuracy: 0.7934 - val_loss: 0.3609 - val_accuracy: 0.8103\n",
            "Epoch 3/10\n",
            "148/148 [==============================] - 56s 381ms/step - loss: 0.3371 - accuracy: 0.8558 - val_loss: 0.3156 - val_accuracy: 0.8621\n",
            "Epoch 4/10\n",
            "148/148 [==============================] - 56s 380ms/step - loss: 0.2993 - accuracy: 0.8854 - val_loss: 0.2876 - val_accuracy: 0.8927\n",
            "Epoch 5/10\n",
            "148/148 [==============================] - 56s 381ms/step - loss: 0.2744 - accuracy: 0.9004 - val_loss: 0.2670 - val_accuracy: 0.8927\n",
            "Epoch 6/10\n",
            "148/148 [==============================] - 56s 379ms/step - loss: 0.2555 - accuracy: 0.9110 - val_loss: 0.2528 - val_accuracy: 0.8985\n",
            "Epoch 7/10\n",
            "148/148 [==============================] - 56s 377ms/step - loss: 0.2406 - accuracy: 0.9151 - val_loss: 0.2409 - val_accuracy: 0.9004\n",
            "Epoch 8/10\n",
            "148/148 [==============================] - 56s 378ms/step - loss: 0.2291 - accuracy: 0.9191 - val_loss: 0.2296 - val_accuracy: 0.9138\n",
            "Epoch 9/10\n",
            "148/148 [==============================] - 56s 377ms/step - loss: 0.2192 - accuracy: 0.9236 - val_loss: 0.2218 - val_accuracy: 0.9138\n",
            "Epoch 10/10\n",
            "148/148 [==============================] - 56s 377ms/step - loss: 0.2107 - accuracy: 0.9280 - val_loss: 0.2172 - val_accuracy: 0.9138\n",
            "Training completed in time:  0:09:26.865023\n"
          ],
          "name": "stdout"
        }
      ]
    },
    {
      "cell_type": "markdown",
      "metadata": {
        "id": "scdeK3s9lzWP"
      },
      "source": [
        "### Save the model"
      ]
    },
    {
      "cell_type": "code",
      "metadata": {
        "execution": {
          "iopub.execute_input": "2021-08-14T22:01:24.107721Z",
          "iopub.status.busy": "2021-08-14T22:01:24.107295Z",
          "iopub.status.idle": "2021-08-14T22:01:25.017168Z",
          "shell.execute_reply": "2021-08-14T22:01:25.015779Z",
          "shell.execute_reply.started": "2021-08-14T22:01:24.107665Z"
        },
        "id": "8JQNAtcSlzWP"
      },
      "source": [
        "# Save the entire model as a SavedModel.\n",
        "!mkdir -p output/saved_model\n",
        "\n",
        "# Save the entire model to a HDF5 file.\n",
        "# The '.h5' extension indicates that the model should be saved to HDF5.\n",
        "model.save('output/saved_model/base_model_full-01.h5')\n"
      ],
      "execution_count": null,
      "outputs": []
    },
    {
      "cell_type": "markdown",
      "metadata": {
        "id": "dH3iQhZ_lzWP"
      },
      "source": [
        "### Check our training history values"
      ]
    },
    {
      "cell_type": "code",
      "metadata": {
        "execution": {
          "iopub.execute_input": "2021-08-14T22:01:25.021511Z",
          "iopub.status.busy": "2021-08-14T22:01:25.021061Z",
          "iopub.status.idle": "2021-08-14T22:01:25.059278Z",
          "shell.execute_reply": "2021-08-14T22:01:25.058283Z",
          "shell.execute_reply.started": "2021-08-14T22:01:25.021450Z"
        },
        "id": "Dyke2_QClzWP",
        "colab": {
          "base_uri": "https://localhost:8080/",
          "height": 359
        },
        "outputId": "0d010dc1-7deb-4298-92f5-ce4cce215a3b"
      },
      "source": [
        "# put on a dataframe our model history values\n",
        "hist_df = pd.DataFrame(data=head_hist.history)\n",
        "hist_df\n"
      ],
      "execution_count": null,
      "outputs": [
        {
          "output_type": "execute_result",
          "data": {
            "text/html": [
              "<div>\n",
              "<style scoped>\n",
              "    .dataframe tbody tr th:only-of-type {\n",
              "        vertical-align: middle;\n",
              "    }\n",
              "\n",
              "    .dataframe tbody tr th {\n",
              "        vertical-align: top;\n",
              "    }\n",
              "\n",
              "    .dataframe thead th {\n",
              "        text-align: right;\n",
              "    }\n",
              "</style>\n",
              "<table border=\"1\" class=\"dataframe\">\n",
              "  <thead>\n",
              "    <tr style=\"text-align: right;\">\n",
              "      <th></th>\n",
              "      <th>loss</th>\n",
              "      <th>accuracy</th>\n",
              "      <th>val_loss</th>\n",
              "      <th>val_accuracy</th>\n",
              "    </tr>\n",
              "  </thead>\n",
              "  <tbody>\n",
              "    <tr>\n",
              "      <th>0</th>\n",
              "      <td>0.503358</td>\n",
              "      <td>0.742463</td>\n",
              "      <td>0.436134</td>\n",
              "      <td>0.758621</td>\n",
              "    </tr>\n",
              "    <tr>\n",
              "      <th>1</th>\n",
              "      <td>0.396615</td>\n",
              "      <td>0.793418</td>\n",
              "      <td>0.360944</td>\n",
              "      <td>0.810345</td>\n",
              "    </tr>\n",
              "    <tr>\n",
              "      <th>2</th>\n",
              "      <td>0.337086</td>\n",
              "      <td>0.855839</td>\n",
              "      <td>0.315649</td>\n",
              "      <td>0.862069</td>\n",
              "    </tr>\n",
              "    <tr>\n",
              "      <th>3</th>\n",
              "      <td>0.299289</td>\n",
              "      <td>0.885350</td>\n",
              "      <td>0.287624</td>\n",
              "      <td>0.892720</td>\n",
              "    </tr>\n",
              "    <tr>\n",
              "      <th>4</th>\n",
              "      <td>0.274405</td>\n",
              "      <td>0.900425</td>\n",
              "      <td>0.267024</td>\n",
              "      <td>0.892720</td>\n",
              "    </tr>\n",
              "    <tr>\n",
              "      <th>5</th>\n",
              "      <td>0.255498</td>\n",
              "      <td>0.911040</td>\n",
              "      <td>0.252824</td>\n",
              "      <td>0.898467</td>\n",
              "    </tr>\n",
              "    <tr>\n",
              "      <th>6</th>\n",
              "      <td>0.240552</td>\n",
              "      <td>0.915074</td>\n",
              "      <td>0.240921</td>\n",
              "      <td>0.900383</td>\n",
              "    </tr>\n",
              "    <tr>\n",
              "      <th>7</th>\n",
              "      <td>0.229117</td>\n",
              "      <td>0.919108</td>\n",
              "      <td>0.229562</td>\n",
              "      <td>0.913793</td>\n",
              "    </tr>\n",
              "    <tr>\n",
              "      <th>8</th>\n",
              "      <td>0.219208</td>\n",
              "      <td>0.923567</td>\n",
              "      <td>0.221775</td>\n",
              "      <td>0.913793</td>\n",
              "    </tr>\n",
              "    <tr>\n",
              "      <th>9</th>\n",
              "      <td>0.210710</td>\n",
              "      <td>0.928025</td>\n",
              "      <td>0.217236</td>\n",
              "      <td>0.913793</td>\n",
              "    </tr>\n",
              "  </tbody>\n",
              "</table>\n",
              "</div>"
            ],
            "text/plain": [
              "       loss  accuracy  val_loss  val_accuracy\n",
              "0  0.503358  0.742463  0.436134      0.758621\n",
              "1  0.396615  0.793418  0.360944      0.810345\n",
              "2  0.337086  0.855839  0.315649      0.862069\n",
              "3  0.299289  0.885350  0.287624      0.892720\n",
              "4  0.274405  0.900425  0.267024      0.892720\n",
              "5  0.255498  0.911040  0.252824      0.898467\n",
              "6  0.240552  0.915074  0.240921      0.900383\n",
              "7  0.229117  0.919108  0.229562      0.913793\n",
              "8  0.219208  0.923567  0.221775      0.913793\n",
              "9  0.210710  0.928025  0.217236      0.913793"
            ]
          },
          "metadata": {},
          "execution_count": 27
        }
      ]
    },
    {
      "cell_type": "markdown",
      "metadata": {
        "id": "zf7IZ8LHlzWP"
      },
      "source": [
        "# Plot Learning curves\n",
        "\n",
        "Plot learning curves to check our training/validation performance\n"
      ]
    },
    {
      "cell_type": "code",
      "metadata": {
        "execution": {
          "iopub.execute_input": "2021-08-14T22:01:25.061222Z",
          "iopub.status.busy": "2021-08-14T22:01:25.060794Z",
          "iopub.status.idle": "2021-08-14T22:01:26.027356Z",
          "shell.execute_reply": "2021-08-14T22:01:26.026250Z",
          "shell.execute_reply.started": "2021-08-14T22:01:25.061180Z"
        },
        "id": "_VfhXmXylzWP",
        "colab": {
          "base_uri": "https://localhost:8080/",
          "height": 584
        },
        "outputId": "cb225c1c-473a-4e24-8658-18289ca6b846"
      },
      "source": [
        "# let's take a look of our base model performance for 12 epochs\n",
        "!mkdir -p output/plots\n",
        "\n",
        "def plot_model_performance(head_hist):\n",
        "    \"\"\"\n",
        "    plot the performance history of our first model\n",
        "    \"\"\"\n",
        "    # get loss scores\n",
        "    loss = head_hist.history[\"loss\"]\n",
        "    val_loss = head_hist.history[\"val_loss\"]\n",
        "    # get accurcay scores\n",
        "    acc = head_hist.history[\"accuracy\"]\n",
        "    val_acc = head_hist.history[\"val_accuracy\"]\n",
        "    # plot all plots\n",
        "    plt.style.use(\"fivethirtyeight\")\n",
        "    plt.figure(figsize=(10, 10))\n",
        "    # plot loss\n",
        "    plt.subplot(2, 1, 1)\n",
        "    plt.plot(loss, label=\"Training Loss\")\n",
        "    plt.plot(val_loss, label=\"Validation Loss\")\n",
        "    plt.legend(loc=\"best\")\n",
        "    plt.ylabel(\"Cross Entropy\")\n",
        "    plt.title(\"Loss\")\n",
        "    # plot accuracy\n",
        "    plt.subplot(2, 1, 2)\n",
        "    plt.plot(acc, label=\"Training Accuracy\")\n",
        "    plt.plot(val_acc, label=\"Validation Accuracy\")\n",
        "    plt.legend(loc=\"best\")\n",
        "    plt.ylabel(\"Accuracy\")\n",
        "    plt.title(\"Accuracy\")\n",
        "    # save plot\n",
        "    plt.savefig(\"output/plots/learning_curves_for_base_model-01\", dpi=300)\n",
        "    plt.show()\n",
        "\n",
        "\n",
        "plot_model_performance(head_hist)\n"
      ],
      "execution_count": null,
      "outputs": [
        {
          "output_type": "display_data",
          "data": {
            "image/png": "[encoded data removed]",
            "text/plain": [
              "<Figure size 720x720 with 2 Axes>"
            ]
          },
          "metadata": {}
        }
      ]
    },
    {
      "cell_type": "markdown",
      "metadata": {
        "id": "-5jXHhPylzWQ"
      },
      "source": [
        "### Evaluate model on test data"
      ]
    },
    {
      "cell_type": "code",
      "metadata": {
        "execution": {
          "iopub.execute_input": "2021-08-14T22:01:26.029651Z",
          "iopub.status.busy": "2021-08-14T22:01:26.029213Z",
          "iopub.status.idle": "2021-08-14T22:01:34.665780Z",
          "shell.execute_reply": "2021-08-14T22:01:34.664575Z",
          "shell.execute_reply.started": "2021-08-14T22:01:26.029608Z"
        },
        "id": "-NcFfkKvlzWQ",
        "colab": {
          "base_uri": "https://localhost:8080/"
        },
        "outputId": "eebc906a-3849-462c-cbba-7dc4841bad93"
      },
      "source": [
        "# Evaluate the model on the test data using 'evaluate'\n",
        "print(\"[INFO] Evaluate on test data...\")\n",
        "test_loss, test_accuracy = model.evaluate(\n",
        "    test_data,\n",
        "    batch_size=batch_size,\n",
        ")\n",
        "\n",
        "# round test_loss to 3 decimals and test accuracy to 2\n",
        "test_loss = round(test_loss, 3)\n",
        "test_accuracy = round(test_accuracy*100, 2)\n",
        "\n",
        "# print model evaluation results\n",
        "print('test loss: ', test_loss)\n",
        "print('test acc:', test_accuracy)\n"
      ],
      "execution_count": null,
      "outputs": [
        {
          "output_type": "stream",
          "text": [
            "[INFO] Evaluate on test data...\n",
            "20/20 [==============================] - 8s 406ms/step - loss: 0.3880 - accuracy: 0.8077\n",
            "test loss:  0.388\n",
            "test acc: 80.77\n"
          ],
          "name": "stdout"
        }
      ]
    },
    {
      "cell_type": "code",
      "metadata": {
        "id": "ixzTDc_VlzWQ",
        "colab": {
          "base_uri": "https://localhost:8080/"
        },
        "outputId": "e8d0b186-79a3-431a-911a-123ca85986cc"
      },
      "source": [
        "# set threshold of 0.5 if value > 0.5 == class 1 [PNEUMONIA]\n",
        "# if not belongs to class 0 [NORMAL]\n",
        "threshold = 0.5\n",
        "test_data.reset()\n",
        "\n",
        "# real predictions not between 0 and 1. \n",
        "Y_pred = model.predict(\n",
        "    test_data, \n",
        "    batch_size=batch_size,\n",
        "    verbose=1)\n",
        "\n",
        "# getting values for our threshold between 0 and 1\n",
        "y_pred = np.where(Y_pred > threshold, 1, 0)\n",
        "# print(y_pred)\n",
        "# print(y_pred_thresh)\n"
      ],
      "execution_count": null,
      "outputs": [
        {
          "output_type": "stream",
          "text": [
            "20/20 [==============================] - 6s 286ms/step\n"
          ],
          "name": "stdout"
        }
      ]
    },
    {
      "cell_type": "markdown",
      "metadata": {
        "id": "Ce3x9djglzWQ"
      },
      "source": [
        "### Classification Report"
      ]
    },
    {
      "cell_type": "code",
      "metadata": {
        "id": "F7D_RAVWlzWQ",
        "colab": {
          "base_uri": "https://localhost:8080/"
        },
        "outputId": "ec6c59f0-362d-4d35-d9e1-121b1e7b2a0d"
      },
      "source": [
        "classification_report = classification_report(\n",
        "    test_data.classes,\n",
        "    y_pred,\n",
        "    target_names=class_names,\n",
        ")\n",
        "\n",
        "print(classification_report)\n"
      ],
      "execution_count": null,
      "outputs": [
        {
          "output_type": "stream",
          "text": [
            "              precision    recall  f1-score   support\n",
            "\n",
            "      NORMAL       0.95      0.51      0.67       234\n",
            "   PNEUMONIA       0.77      0.98      0.86       390\n",
            "\n",
            "    accuracy                           0.81       624\n",
            "   macro avg       0.86      0.75      0.77       624\n",
            "weighted avg       0.84      0.81      0.79       624\n",
            "\n"
          ],
          "name": "stdout"
        }
      ]
    },
    {
      "cell_type": "markdown",
      "metadata": {
        "id": "ri5aCzSOlzWQ"
      },
      "source": [
        "### Confusion Matrix"
      ]
    },
    {
      "cell_type": "code",
      "metadata": {
        "id": "UwYYBQ7UlzWQ",
        "colab": {
          "base_uri": "https://localhost:8080/",
          "height": 619
        },
        "outputId": "5b463b37-205d-4965-9f4b-279981567766"
      },
      "source": [
        "group_names = ['TN', 'FP', 'FN', 'TP']\n",
        "cm = confusion_matrix(test_data.classes, y_pred)\n",
        "\n",
        "\n",
        "def plot_matrix(cm):\n",
        "    plt.figure(figsize=(8, 6))\n",
        "    plt.title('Confusion matrix @0.50\\n')\n",
        "    heatmap = sns.heatmap(\n",
        "            cm,\n",
        "            cmap='OrRd',\n",
        "            linecolor='black',\n",
        "            linewidths=1,\n",
        "            annot=True,\n",
        "            cbar=False,\n",
        "            fmt='',\n",
        "            xticklabels=class_names,\n",
        "            yticklabels=class_names\n",
        "    )\n",
        "    plt.xlabel('Predicted Label')\n",
        "    plt.ylabel('Actual (True) Label')\n",
        "    plt.savefig('output/plots/confusion_matrix_base_model-01', dpi=300)\n",
        "\n",
        "    return heatmap\n",
        "\n",
        "\n",
        "plot_matrix(cm)\n",
        "print('Normal cases correctly Detected - (True Negatives): ', cm[0][0])\n",
        "print('Normal cases incorrectly Detected when is Pneumonia - (False Positives): ', cm[0][1])\n",
        "print('Pneumonia cases correctly Detected - (True Positives): ', cm[1][1])\n",
        "print('Pneumonia cases incorrectly Detected when is Normal -  (False Negatives): ', cm[1][0])\n",
        "print('Total Pneumonia cases: ', np.sum(cm[1]))\n",
        "print('Total Normal cases: ', np.sum(cm[0]))\n",
        "print('\\n')\n",
        "plt.show()\n"
      ],
      "execution_count": null,
      "outputs": [
        {
          "output_type": "stream",
          "text": [
            "Normal cases correctly Detected - (True Negatives):  120\n",
            "Normal cases incorrectly Detected when is Pneumonia - (False Positives):  114\n",
            "Pneumonia cases correctly Detected - (True Positives):  384\n",
            "Pneumonia cases incorrectly Detected when is Normal -  (False Negatives):  6\n",
            "Total Pneumonia cases:  390\n",
            "Total Normal cases:  234\n",
            "\n",
            "\n"
          ],
          "name": "stdout"
        },
        {
          "output_type": "display_data",
          "data": {
            "image/png": "[encoded data removed]",
            "text/plain": [
              "<Figure size 576x432 with 1 Axes>"
            ]
          },
          "metadata": {}
        }
      ]
    },
    {
      "cell_type": "markdown",
      "metadata": {
        "id": "J2ZW2KvVlzWR"
      },
      "source": [
        "# AUC, Sensitivity and Specificity scores\n",
        "\n",
        "Since we know that our data is imbalanced.  Accuracy might not be the best model evaluation metric every time.  It can convey the health of a model well only when all the classes have similar prevalence in the data.  Thus, when the classes’ distribution is imbalanced, accuracy is not a good model evaluation metric.\n",
        "For this reason we will rely on Sensitivity and Specificity as well as AUC ROC Scores.\n"
      ]
    },
    {
      "cell_type": "code",
      "metadata": {
        "id": "pTYh44Q7lzWR",
        "colab": {
          "base_uri": "https://localhost:8080/"
        },
        "outputId": "5701cf2f-3610-457b-f791-ba37b21aa713"
      },
      "source": [
        "TN, FP, FN, TP = cm.ravel()\n",
        "\n",
        "accuracy = (TP + TN)/(TP + TN + FN + FP)\n",
        "sensitivity = (TP)/(TP + FN)\n",
        "specificity = (TN)/(TN + FP)\n",
        "prevalance = np.sum(test_data.classes)/len(test_data.classes)\n",
        "\n",
        "print(\"Metrics:\\n\")\n",
        "print(\"accuracy: {:.2%}\".format(accuracy))\n",
        "# positive cases (pneumonia [1]) predicted correctly\n",
        "print(\"sensitivity: {:.2%}\".format(sensitivity))\n",
        "# negative casse (normal [0]) predicted correctly\n",
        "print(\"specificity: {:.2%}\".format(specificity))\n",
        "# \n",
        "print(\"prevalance: {:.2%}\".format(prevalance))\n",
        "\n",
        "# \n",
        "AUC = roc_auc_score(test_data.classes, y_pred)\n",
        "print(\"AUC ROC SCORE: {:.2%}\".format(AUC))\n"
      ],
      "execution_count": null,
      "outputs": [
        {
          "output_type": "stream",
          "text": [
            "Metrics:\n",
            "\n",
            "accuracy: 80.77%\n",
            "sensitivity: 98.46%\n",
            "specificity: 51.28%\n",
            "prevalance: 62.50%\n",
            "AUC ROC SCORE: 74.87%\n"
          ],
          "name": "stdout"
        }
      ]
    },
    {
      "cell_type": "markdown",
      "metadata": {
        "id": "x82YghkMDrUy"
      },
      "source": [
        "As we already know from the EDA section, this dataset is highly unbalanced.  There is an imbalance in the accuracy for pneumonia and normal predictions.  This is because the prevalence of pneumonia in this dataset is high.\n",
        "\n",
        "We can determine that in 81% of the cases this model is predicting right for both cases.\n",
        "\n",
        "That is why we won't rely on accuracy as an overall metric for this model.  We could measure both the sensitivity and specificity.\n",
        "\n",
        "We have a low prevalance of 63% because the proportion of normal cases is low.  \n",
        "\n",
        "The sensitivity indicates that out of 100 detections of pneumonia cases our model will predict the class 1 just about right in 98% of the time.  That is, out of 100 pneumonia cases 98 will be predicted right and 2 pneumonia cases will be wrongly predicted as normal cases.\n",
        "\n",
        "However, the specificity out of 100 predictions regarding the normal cases, it will predict just about right those cases 51% of the time.  Yet, it will predict wrong about 49.\n",
        "\n",
        "Meaning, out of 100 normal cases 51 will be predicted right but it will missed 49 cases and will end up being predicted as pneumonia cases.\n",
        "\n",
        "**Note**: These initial base model is good but not great. We know the dataset is imbalanced.  Therefore, let'see if we can tuned this model a bit so that we can get better metrics."
      ]
    },
    {
      "cell_type": "markdown",
      "metadata": {
        "id": "Vtr1MeHJlzWR"
      },
      "source": [
        "# References\n",
        "\n",
        "[Transfer learning and fine-tuning - tensorflow tutorials](https://www.tensorflow.org/tutorials/images/transfer_learning)\n",
        "\n",
        "[Fine tuning with Keras and Deep Learning - tutorial](https://www.pyimagesearch.com/2019/06/03/fine-tuning-with-keras-and-deep-learning/)\n",
        "\n",
        "[writing your own callbacks - tensorflow tutorials](https://www.tensorflow.org/guide/keras/custom_callback#setup)\n",
        "\n",
        "[Data Augmentation in Medical Images](https://towardsdatascience.com/data-augmentation-in-medical-images-95c774e6eaae)"
      ]
    }
  ]
}